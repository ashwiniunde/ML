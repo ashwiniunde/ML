{
 "cells": [
  {
   "cell_type": "raw",
   "id": "7ee34f46-68e1-42db-82bd-16a461205c22",
   "metadata": {},
   "source": [
    "3.\n",
    "Construct an FTP-tree asing suitable programming language for appropriate data set for association rule minning • Explain all the steps of tree construction and draw resulting tree (Minimum Suppon count thresbold for ossociation rule (default -2) based on this tree answer the Following questions:\n",
    "a) Find maximum frequent itemoet\n",
    "b) How much transcations does it contain?\n",
    "c) Stmulate frequent patterns enumeration based on FP tree tonstruc ted\n",
    "d) Give comparative analysis of the process with Apriori algorithm."
   ]
  },
  {
   "cell_type": "code",
   "execution_count": 1,
   "id": "d75f932c-11c6-4513-b811-6ea46bd2a7c1",
   "metadata": {},
   "outputs": [
    {
     "name": "stdout",
     "output_type": "stream",
     "text": [
      "Item Frequencies: {'A': 2, 'B': 3, 'C': 3, 'D': 1}\n"
     ]
    }
   ],
   "source": [
    "from collections import defaultdict\n",
    "\n",
    "# Given transactions\n",
    "transactions = [\n",
    "    ['A', 'B', 'C'],\n",
    "    ['B', 'C', 'D'],\n",
    "    ['A', 'C'],\n",
    "    ['B']\n",
    "]\n",
    "\n",
    "# Step 1: Count the frequency of each item\n",
    "item_counts = defaultdict(int)\n",
    "for transaction in transactions:\n",
    "    for item in transaction:\n",
    "        item_counts[item] += 1\n",
    "\n",
    "# Print item counts\n",
    "print(\"Item Frequencies:\", dict(item_counts))\n"
   ]
  },
  {
   "cell_type": "code",
   "execution_count": 2,
   "id": "515912ab-ae09-4af9-a284-4bc70756cb0b",
   "metadata": {},
   "outputs": [
    {
     "name": "stdout",
     "output_type": "stream",
     "text": [
      "Frequent Items after Filtering: {'A': 2, 'B': 3, 'C': 3}\n"
     ]
    }
   ],
   "source": [
    "# Set minimum support threshold\n",
    "min_support = 2\n",
    "\n",
    "# Step 2: Remove infrequent items\n",
    "frequent_items = {item: count for item, count in item_counts.items() if count >= min_support}\n",
    "\n",
    "# Print frequent items\n",
    "print(\"Frequent Items after Filtering:\", frequent_items)\n"
   ]
  },
  {
   "cell_type": "code",
   "execution_count": 3,
   "id": "7e61a2ab-34e7-43cb-a3be-ea9957b3afca",
   "metadata": {},
   "outputs": [
    {
     "name": "stdout",
     "output_type": "stream",
     "text": [
      "Sorted Transactions: [['B', 'C', 'A'], ['B', 'C'], ['C', 'A'], ['B']]\n"
     ]
    }
   ],
   "source": [
    "# Step 3: Sort transactions based on frequency (descending)\n",
    "sorted_transactions = []\n",
    "for transaction in transactions:\n",
    "    filtered_transaction = [item for item in transaction if item in frequent_items]\n",
    "    filtered_transaction.sort(key=lambda x: frequent_items[x], reverse=True)\n",
    "    sorted_transactions.append(filtered_transaction)\n",
    "\n",
    "# Print sorted transactions\n",
    "print(\"Sorted Transactions:\", sorted_transactions)\n"
   ]
  },
  {
   "cell_type": "code",
   "execution_count": null,
   "id": "1de3f090-a5c9-4d60-b73b-abaf7b5c8d7c",
   "metadata": {},
   "outputs": [],
   "source": []
  },
  {
   "cell_type": "code",
   "execution_count": null,
   "id": "1bbbd5f3-d303-4391-85f8-a7a33cb1b5ef",
   "metadata": {},
   "outputs": [],
   "source": []
  },
  {
   "cell_type": "code",
   "execution_count": 6,
   "id": "65314497-9c63-4d89-a75e-eba8bb5bc107",
   "metadata": {},
   "outputs": [],
   "source": [
    "class FPNode:\n",
    "    def __init__(self, item, count=1, parent=None):\n",
    "        self.item = item  # Item name\n",
    "        self.count = count  # Number of occurrences\n",
    "        self.parent = parent  # Pointer to parent node\n",
    "        self.children = {}  # Child nodes\n",
    "        self.link = None  # Link to next node of the same item\n"
   ]
  },
  {
   "cell_type": "code",
   "execution_count": 7,
   "id": "32f43683-4a92-4402-8f61-8897f79b5973",
   "metadata": {},
   "outputs": [],
   "source": [
    "class FPTree:\n",
    "    def __init__(self):\n",
    "        self.root = FPNode(None)  # Root node (NULL)\n",
    "        self.header_table = {}  # Stores first occurrence of each item\n",
    "\n",
    "    def insert_transaction(self, transaction):\n",
    "        current_node = self.root  # Start at root\n",
    "        for item in transaction:\n",
    "            if item in current_node.children:\n",
    "                current_node.children[item].count += 1  # Increment count\n",
    "            else:\n",
    "                new_node = FPNode(item, parent=current_node)\n",
    "                current_node.children[item] = new_node  # Add new node\n",
    "                \n",
    "                # Update header table for linking nodes of same item\n",
    "                if item in self.header_table:\n",
    "                    last_node = self.header_table[item]\n",
    "                    while last_node.link:\n",
    "                        last_node = last_node.link\n",
    "                    last_node.link = new_node\n",
    "                else:\n",
    "                    self.header_table[item] = new_node\n",
    "\n",
    "            current_node = current_node.children[item]  # Move down tree\n",
    "\n",
    "    def display_tree(self, node=None, indent=0):\n",
    "        if node is None:\n",
    "            node = self.root\n",
    "        print(\" \" * indent + (f\"{node.item}:{node.count}\" if node.item else \"Root\"))\n",
    "        for child in node.children.values():\n",
    "            self.display_tree(child, indent + 2)\n"
   ]
  },
  {
   "cell_type": "code",
   "execution_count": 8,
   "id": "c7622b0c-fb29-4a78-abb7-3784b34c43cc",
   "metadata": {},
   "outputs": [
    {
     "name": "stdout",
     "output_type": "stream",
     "text": [
      "Root\n",
      "  B:3\n",
      "    C:2\n",
      "      A:1\n",
      "  C:1\n",
      "    A:1\n"
     ]
    }
   ],
   "source": [
    "# Create an FP-tree and insert transactions\n",
    "fp_tree = FPTree()\n",
    "for transaction in sorted_transactions:\n",
    "    fp_tree.insert_transaction(transaction)\n",
    "\n",
    "# Display the FP-tree\n",
    "fp_tree.display_tree()\n"
   ]
  },
  {
   "cell_type": "code",
   "execution_count": null,
   "id": "7940fae4-8ec9-4d6c-8b4f-e5d3f3db3ef6",
   "metadata": {},
   "outputs": [],
   "source": []
  }
 ],
 "metadata": {
  "kernelspec": {
   "display_name": "Python 3 (ipykernel)",
   "language": "python",
   "name": "python3"
  },
  "language_info": {
   "codemirror_mode": {
    "name": "ipython",
    "version": 3
   },
   "file_extension": ".py",
   "mimetype": "text/x-python",
   "name": "python",
   "nbconvert_exporter": "python",
   "pygments_lexer": "ipython3",
   "version": "3.11.7"
  }
 },
 "nbformat": 4,
 "nbformat_minor": 5
}
