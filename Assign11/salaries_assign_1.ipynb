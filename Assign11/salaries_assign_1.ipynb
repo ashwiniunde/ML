{
 "cells": [
  {
   "cell_type": "raw",
   "id": "314cae14-2d63-4f9f-9621-c567d9ca98b6",
   "metadata": {},
   "source": [
    "Assignment No. 1\n",
    "\n",
    "Title: Use any suitable dataset & perform the following operation on given dataset using suitable programming language.\n",
    "\n",
    "a) Find missing values and replace missing value with suitable alternative\n",
    "b) Remove inconsistent dataset\n",
    "c) Prepare boxplot for each numerical attribute\n",
    "d) Draw histogram for any 2 attributes\n",
    "e) Find data type of each column\n",
    "f) Find out zeros\n",
    "g) Find mean\n",
    "h) Find shape of dataset"
   ]
  },
  {
   "cell_type": "code",
   "execution_count": 2,
   "id": "d736a7c9-9d16-4aff-91f0-f0233d871740",
   "metadata": {},
   "outputs": [
    {
     "name": "stdout",
     "output_type": "stream",
     "text": [
      "Missing values in each column:\n",
      "company                  0\n",
      "job                      0\n",
      "degree                   0\n",
      "salary_more_than_100k    0\n",
      "dtype: int64\n"
     ]
    }
   ],
   "source": [
    "#a) Find missing values and replace them with a suitable alternative\n",
    "import pandas as pd\n",
    "\n",
    "# Load the dataset\n",
    "df = pd.read_csv('salaries.csv')\n",
    "\n",
    "# Check for missing values\n",
    "print(\"Missing values in each column:\")\n",
    "print(df.isnull().sum())\n",
    "\n",
    "# Fill missing values (if any) — here we're just using mode for categorical, mean for numeric\n",
    "for col in df.columns:\n",
    "    if df[col].dtype == 'object':\n",
    "        df[col].fillna(df[col].mode()[0], inplace=True)\n",
    "    else:\n",
    "        df[col].fillna(df[col].mean(), inplace=True)\n",
    "\n"
   ]
  },
  {
   "cell_type": "code",
   "execution_count": 3,
   "id": "38b0d1c5-4f87-47a5-911a-21fee53ac1aa",
   "metadata": {},
   "outputs": [],
   "source": [
    "#b) Remove inconsistent data"
   ]
  },
  {
   "cell_type": "code",
   "execution_count": 4,
   "id": "2281cdb7-e927-4ffa-bc8a-8a765087bd61",
   "metadata": {},
   "outputs": [],
   "source": [
    "# Example: Remove rows where job = 'na' or degree = 'unknown'\n",
    "df = df[~df['job'].isin(['na', 'unknown'])]\n",
    "df = df[~df['degree'].isin(['na', 'unknown'])]\n"
   ]
  },
  {
   "cell_type": "code",
   "execution_count": 6,
   "id": "da3a0516-b9f7-44dd-90eb-d64cbfbb8bbb",
   "metadata": {},
   "outputs": [],
   "source": [
    "#c) Prepare boxplot for each numerical attribute"
   ]
  },
  {
   "cell_type": "code",
   "execution_count": 7,
   "id": "bff67a97-88e0-4ae4-8a36-7c3d97371b99",
   "metadata": {},
   "outputs": [
    {
     "data": {
      "image/png": "[encoded data removed]",
      "text/plain": [
       "<Figure size 500x300 with 1 Axes>"
      ]
     },
     "metadata": {},
     "output_type": "display_data"
    }
   ],
   "source": [
    "import matplotlib.pyplot as plt\n",
    "import seaborn as sns\n",
    "\n",
    "# Plot boxplot for numeric attributes\n",
    "numeric_cols = df.select_dtypes(include=['int64', 'float64']).columns\n",
    "\n",
    "for col in numeric_cols:\n",
    "    plt.figure(figsize=(5, 3))\n",
    "    sns.boxplot(x=df[col])\n",
    "    plt.title(f\"Boxplot of {col}\")\n",
    "    plt.show()\n"
   ]
  },
  {
   "cell_type": "code",
   "execution_count": 9,
   "id": "e750e7d4-4419-4d8f-b324-c5634f43a6ac",
   "metadata": {},
   "outputs": [],
   "source": [
    "# d)  Draw histogram for any 2 attributes"
   ]
  },
  {
   "cell_type": "code",
   "execution_count": 10,
   "id": "d290bec0-37de-43ca-a477-257886427d3f",
   "metadata": {},
   "outputs": [
    {
     "data": {
      "image/png": "[encoded data removed]",
      "text/plain": [
       "<Figure size 500x300 with 1 Axes>"
      ]
     },
     "metadata": {},
     "output_type": "display_data"
    }
   ],
   "source": [
    "# Example: Histogram for salary and dummy_score (if added previously)\n",
    "plt.figure(figsize=(5,3))\n",
    "plt.hist(df['salary_more_than_100k'], bins=5, color='skyblue', edgecolor='black')\n",
    "plt.title(\"Histogram: salary_more_than_100k\")\n",
    "plt.xlabel(\"Salary > 100k\")\n",
    "plt.ylabel(\"Count\")\n",
    "plt.show()\n",
    "\n",
    "# If dummy_score column exists\n",
    "if 'dummy_score' in df.columns:\n",
    "    plt.figure(figsize=(5,3))\n",
    "    plt.hist(df['dummy_score'], bins=5, color='lightgreen', edgecolor='black')\n",
    "    plt.title(\"Histogram: dummy_score\")\n",
    "    plt.xlabel(\"Score\")\n",
    "    plt.ylabel(\"Count\")\n",
    "    plt.show()\n"
   ]
  },
  {
   "cell_type": "code",
   "execution_count": 11,
   "id": "9069fb38-2c04-4c55-89a2-2755c2c7bf53",
   "metadata": {},
   "outputs": [],
   "source": [
    "#e.Find data type of each column"
   ]
  },
  {
   "cell_type": "code",
   "execution_count": 12,
   "id": "0881c413-a238-4c4c-add8-546c319bc505",
   "metadata": {},
   "outputs": [
    {
     "name": "stdout",
     "output_type": "stream",
     "text": [
      "Data types of each column:\n",
      "company                  object\n",
      "job                      object\n",
      "degree                   object\n",
      "salary_more_than_100k     int64\n",
      "dtype: object\n"
     ]
    }
   ],
   "source": [
    "print(\"Data types of each column:\")\n",
    "print(df.dtypes)\n"
   ]
  },
  {
   "cell_type": "code",
   "execution_count": 13,
   "id": "0fe47965-a9f5-43ec-95a8-501239fcd3f6",
   "metadata": {},
   "outputs": [],
   "source": [
    "#f.Find out zeros in dataset"
   ]
  },
  {
   "cell_type": "code",
   "execution_count": 14,
   "id": "f3caf480-6fd9-4cc9-802a-f3b9b9267e09",
   "metadata": {},
   "outputs": [
    {
     "name": "stdout",
     "output_type": "stream",
     "text": [
      "Zero counts in each column:\n",
      "company                  0\n",
      "job                      0\n",
      "degree                   0\n",
      "salary_more_than_100k    6\n",
      "dtype: int64\n"
     ]
    }
   ],
   "source": [
    "print(\"Zero counts in each column:\")\n",
    "print((df == 0).sum())\n"
   ]
  },
  {
   "cell_type": "code",
   "execution_count": 15,
   "id": "cd543662-be8f-49a0-a3cc-5affa36d7f04",
   "metadata": {},
   "outputs": [],
   "source": [
    "#g.Find mean of each numeric attribute"
   ]
  },
  {
   "cell_type": "code",
   "execution_count": 16,
   "id": "927258b9-2491-4038-900c-363cb5df0127",
   "metadata": {},
   "outputs": [
    {
     "name": "stdout",
     "output_type": "stream",
     "text": [
      "Mean of numeric columns:\n",
      "salary_more_than_100k    0.625\n",
      "dtype: float64\n"
     ]
    }
   ],
   "source": [
    "print(\"Mean of numeric columns:\")\n",
    "print(df.select_dtypes(include=['int64', 'float64']).mean())\n"
   ]
  },
  {
   "cell_type": "code",
   "execution_count": 17,
   "id": "d6344e73-7a27-42ac-9dbe-69f599b31c04",
   "metadata": {},
   "outputs": [
    {
     "name": "stdout",
     "output_type": "stream",
     "text": [
      "Shape of dataset:\n",
      "(16, 4)\n"
     ]
    }
   ],
   "source": [
    "print(\"Shape of dataset:\")\n",
    "print(df.shape)\n"
   ]
  },
  {
   "cell_type": "code",
   "execution_count": null,
   "id": "ae412185-d609-4b2a-881a-55eb5ebe917e",
   "metadata": {},
   "outputs": [],
   "source": []
  }
 ],
 "metadata": {
  "kernelspec": {
   "display_name": "Python 3 (ipykernel)",
   "language": "python",
   "name": "python3"
  },
  "language_info": {
   "codemirror_mode": {
    "name": "ipython",
    "version": 3
   },
   "file_extension": ".py",
   "mimetype": "text/x-python",
   "name": "python",
   "nbconvert_exporter": "python",
   "pygments_lexer": "ipython3",
   "version": "3.11.7"
  }
 },
 "nbformat": 4,
 "nbformat_minor": 5
}
