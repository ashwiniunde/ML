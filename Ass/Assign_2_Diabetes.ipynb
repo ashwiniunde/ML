{
 "cells": [
  {
   "cell_type": "code",
   "execution_count": 1,
   "id": "6f20db82-988a-4550-b45e-f7363ff1919b",
   "metadata": {},
   "outputs": [],
   "source": [
    "import pandas as pd\n",
    "import numpy as np\n",
    "from sklearn.feature_selection import VarianceThreshold"
   ]
  },
  {
   "cell_type": "code",
   "execution_count": 2,
   "id": "7548593d-94b8-4a85-8eb0-6892a6194ea0",
   "metadata": {},
   "outputs": [],
   "source": [
    "# Load dataset\n",
    "df = pd.read_csv(\"Diabetes.csv\")"
   ]
  },
  {
   "cell_type": "code",
   "execution_count": 3,
   "id": "1cae23c7-e5c1-4ac1-80c1-e68c4e670110",
   "metadata": {},
   "outputs": [],
   "source": [
    "# Clean column names\n",
    "df.columns = df.columns.str.strip()"
   ]
  },
  {
   "cell_type": "code",
   "execution_count": 4,
   "id": "e9c62425-f4ee-4057-bf35-857e8aab5555",
   "metadata": {},
   "outputs": [],
   "source": [
    "# Select numerical columns (excluding target variable if present)\n",
    "numerical_cols = df.select_dtypes(include=['number']).drop(columns=['Class variable'], errors='ignore')"
   ]
  },
  {
   "cell_type": "code",
   "execution_count": 9,
   "id": "1a989c30-4c47-4d73-be0b-dd4fc6e6645a",
   "metadata": {},
   "outputs": [],
   "source": [
    "# Standard Deviation & Variance\n",
    "std_dev = numerical_cols.std()\n",
    "variance = numerical_cols.var()"
   ]
  },
  {
   "cell_type": "code",
   "execution_count": 11,
   "id": "eded2f95-4964-4169-8b0c-6a533884de39",
   "metadata": {},
   "outputs": [],
   "source": [
    "# Covariance & Correlation\n",
    "covariance = numerical_cols.cov()\n",
    "correlation = numerical_cols.corr()\n"
   ]
  },
  {
   "cell_type": "code",
   "execution_count": 13,
   "id": "d8c5de1c-a2f0-4a49-870d-05a3d4eabc25",
   "metadata": {},
   "outputs": [],
   "source": [
    "# Identify Independent Features (Low Variance Removal)\n",
    "selector = VarianceThreshold(threshold=0.1)  # Removing near-constant features\n",
    "selector.fit(numerical_cols)\n",
    "independent_features = numerical_cols.columns[selector.get_support()]"
   ]
  },
  {
   "cell_type": "code",
   "execution_count": 15,
   "id": "a9bfae9b-a5bf-445b-b599-7f4f00ce2390",
   "metadata": {},
   "outputs": [],
   "source": [
    "# Identify Unwanted Features (High Correlation)\n",
    "high_correlation_pairs = set()\n",
    "correlation_threshold = 0.9  # Adjust threshold if needed\n",
    "for i in range(len(correlation.columns)):\n",
    "    for j in range(i):\n",
    "        if abs(correlation.iloc[i, j]) > correlation_threshold:\n",
    "            high_correlation_pairs.add((correlation.columns[i], correlation.columns[j]))\n"
   ]
  },
  {
   "cell_type": "code",
   "execution_count": 17,
   "id": "fe7d827c-6bee-410b-bca7-5c19db245085",
   "metadata": {},
   "outputs": [],
   "source": [
    "# Data Discretization (Equi-Frequency Binning on Age)\n",
    "df[\"Age_Binned\"], bins = pd.qcut(df[\"Age (years)\"], q=5, labels=False, retbins=True)"
   ]
  },
  {
   "cell_type": "code",
   "execution_count": 19,
   "id": "49906b47-b663-491e-b560-5409e22eb060",
   "metadata": {},
   "outputs": [],
   "source": [
    "# Normalization Methods: Min-Max, Z-Score, and Decimal Scaling\n",
    "for col in [\"Plasma glucose concentration\", \"Diastolic blood pressure\", \"Body mass index\"]:\n",
    "    df[f\"{col}_MinMax\"] = (df[col] - df[col].min()) / (df[col].max() - df[col].min())\n",
    "    df[f\"{col}_ZScore\"] = (df[col] - df[col].mean()) / df[col].std()\n",
    "    df[f\"{col}_Decimal\"] = df[col] / (10 ** np.ceil(np.log10(df[col].abs().max())))"
   ]
  },
  {
   "cell_type": "code",
   "execution_count": 21,
   "id": "53fceb8f-29c6-4727-bb5f-71d532f74edc",
   "metadata": {},
   "outputs": [
    {
     "name": "stdout",
     "output_type": "stream",
     "text": [
      "Standard Deviation:\n",
      " Number of times pregnant          3.369578\n",
      "Plasma glucose concentration     31.972618\n",
      "Diastolic blood pressure         19.355807\n",
      "Triceps skin fold thickness      15.952218\n",
      "2-Hour serum insulin            115.244002\n",
      "Body mass index                   7.884160\n",
      "Diabetes pedigree function        0.331329\n",
      "Age (years)                      11.760232\n",
      "dtype: float64\n"
     ]
    }
   ],
   "source": [
    "# Display Results\n",
    "print(\"Standard Deviation:\\n\", std_dev)"
   ]
  },
  {
   "cell_type": "code",
   "execution_count": 23,
   "id": "81b24f80-5797-4489-a0b1-08e68ed5c5c1",
   "metadata": {},
   "outputs": [
    {
     "name": "stdout",
     "output_type": "stream",
     "text": [
      "\n",
      "Variance:\n",
      " Number of times pregnant           11.354056\n",
      "Plasma glucose concentration     1022.248314\n",
      "Diastolic blood pressure          374.647271\n",
      "Triceps skin fold thickness       254.473245\n",
      "2-Hour serum insulin            13281.180078\n",
      "Body mass index                    62.159984\n",
      "Diabetes pedigree function          0.109779\n",
      "Age (years)                       138.303046\n",
      "dtype: float64\n"
     ]
    }
   ],
   "source": [
    "print(\"\\nVariance:\\n\", variance)"
   ]
  },
  {
   "cell_type": "code",
   "execution_count": 25,
   "id": "bf29ef38-599d-461e-a552-93f9bae25856",
   "metadata": {},
   "outputs": [
    {
     "name": "stdout",
     "output_type": "stream",
     "text": [
      "\n",
      "Covariance:\n",
      "                               Number of times pregnant  \\\n",
      "Number of times pregnant                     11.354056   \n",
      "Plasma glucose concentration                 13.947131   \n",
      "Diastolic blood pressure                      9.214538   \n",
      "Triceps skin fold thickness                  -4.390041   \n",
      "2-Hour serum insulin                        -28.555231   \n",
      "Body mass index                               0.469774   \n",
      "Diabetes pedigree function                   -0.037426   \n",
      "Age (years)                                  21.570620   \n",
      "\n",
      "                              Plasma glucose concentration  \\\n",
      "Number of times pregnant                         13.947131   \n",
      "Plasma glucose concentration                   1022.248314   \n",
      "Diastolic blood pressure                         94.430956   \n",
      "Triceps skin fold thickness                      29.239183   \n",
      "2-Hour serum insulin                           1220.935799   \n",
      "Body mass index                                  55.726987   \n",
      "Diabetes pedigree function                        1.454875   \n",
      "Age (years)                                      99.082805   \n",
      "\n",
      "                              Diastolic blood pressure  \\\n",
      "Number of times pregnant                      9.214538   \n",
      "Plasma glucose concentration                 94.430956   \n",
      "Diastolic blood pressure                    374.647271   \n",
      "Triceps skin fold thickness                  64.029396   \n",
      "2-Hour serum insulin                        198.378412   \n",
      "Body mass index                              43.004695   \n",
      "Diabetes pedigree function                    0.264638   \n",
      "Age (years)                                  54.523453   \n",
      "\n",
      "                              Triceps skin fold thickness  \\\n",
      "Number of times pregnant                        -4.390041   \n",
      "Plasma glucose concentration                    29.239183   \n",
      "Diastolic blood pressure                        64.029396   \n",
      "Triceps skin fold thickness                    254.473245   \n",
      "2-Hour serum insulin                           802.979941   \n",
      "Body mass index                                 49.373869   \n",
      "Diabetes pedigree function                       0.972136   \n",
      "Age (years)                                    -21.381023   \n",
      "\n",
      "                              2-Hour serum insulin  Body mass index  \\\n",
      "Number of times pregnant                -28.555231         0.469774   \n",
      "Plasma glucose concentration           1220.935799        55.726987   \n",
      "Diastolic blood pressure                198.378412        43.004695   \n",
      "Triceps skin fold thickness             802.979941        49.373869   \n",
      "2-Hour serum insulin                  13281.180078       179.775172   \n",
      "Body mass index                         179.775172        62.159984   \n",
      "Diabetes pedigree function                7.066681         0.367405   \n",
      "Age (years)                             -57.143290         3.360330   \n",
      "\n",
      "                              Diabetes pedigree function  Age (years)  \n",
      "Number of times pregnant                       -0.037426    21.570620  \n",
      "Plasma glucose concentration                    1.454875    99.082805  \n",
      "Diastolic blood pressure                        0.264638    54.523453  \n",
      "Triceps skin fold thickness                     0.972136   -21.381023  \n",
      "2-Hour serum insulin                            7.066681   -57.143290  \n",
      "Body mass index                                 0.367405     3.360330  \n",
      "Diabetes pedigree function                      0.109779     0.130772  \n",
      "Age (years)                                     0.130772   138.303046  \n"
     ]
    }
   ],
   "source": [
    "print(\"\\nCovariance:\\n\", covariance)"
   ]
  },
  {
   "cell_type": "code",
   "execution_count": 27,
   "id": "861c2a1e-0361-410f-841a-025c8c444064",
   "metadata": {},
   "outputs": [
    {
     "name": "stdout",
     "output_type": "stream",
     "text": [
      "\n",
      "Correlation:\n",
      "                               Number of times pregnant  \\\n",
      "Number of times pregnant                      1.000000   \n",
      "Plasma glucose concentration                  0.129459   \n",
      "Diastolic blood pressure                      0.141282   \n",
      "Triceps skin fold thickness                  -0.081672   \n",
      "2-Hour serum insulin                         -0.073535   \n",
      "Body mass index                               0.017683   \n",
      "Diabetes pedigree function                   -0.033523   \n",
      "Age (years)                                   0.544341   \n",
      "\n",
      "                              Plasma glucose concentration  \\\n",
      "Number of times pregnant                          0.129459   \n",
      "Plasma glucose concentration                      1.000000   \n",
      "Diastolic blood pressure                          0.152590   \n",
      "Triceps skin fold thickness                       0.057328   \n",
      "2-Hour serum insulin                              0.331357   \n",
      "Body mass index                                   0.221071   \n",
      "Diabetes pedigree function                        0.137337   \n",
      "Age (years)                                       0.263514   \n",
      "\n",
      "                              Diastolic blood pressure  \\\n",
      "Number of times pregnant                      0.141282   \n",
      "Plasma glucose concentration                  0.152590   \n",
      "Diastolic blood pressure                      1.000000   \n",
      "Triceps skin fold thickness                   0.207371   \n",
      "2-Hour serum insulin                          0.088933   \n",
      "Body mass index                               0.281805   \n",
      "Diabetes pedigree function                    0.041265   \n",
      "Age (years)                                   0.239528   \n",
      "\n",
      "                              Triceps skin fold thickness  \\\n",
      "Number of times pregnant                        -0.081672   \n",
      "Plasma glucose concentration                     0.057328   \n",
      "Diastolic blood pressure                         0.207371   \n",
      "Triceps skin fold thickness                      1.000000   \n",
      "2-Hour serum insulin                             0.436783   \n",
      "Body mass index                                  0.392573   \n",
      "Diabetes pedigree function                       0.183928   \n",
      "Age (years)                                     -0.113970   \n",
      "\n",
      "                              2-Hour serum insulin  Body mass index  \\\n",
      "Number of times pregnant                 -0.073535         0.017683   \n",
      "Plasma glucose concentration              0.331357         0.221071   \n",
      "Diastolic blood pressure                  0.088933         0.281805   \n",
      "Triceps skin fold thickness               0.436783         0.392573   \n",
      "2-Hour serum insulin                      1.000000         0.197859   \n",
      "Body mass index                           0.197859         1.000000   \n",
      "Diabetes pedigree function                0.185071         0.140647   \n",
      "Age (years)                              -0.042163         0.036242   \n",
      "\n",
      "                              Diabetes pedigree function  Age (years)  \n",
      "Number of times pregnant                       -0.033523     0.544341  \n",
      "Plasma glucose concentration                    0.137337     0.263514  \n",
      "Diastolic blood pressure                        0.041265     0.239528  \n",
      "Triceps skin fold thickness                     0.183928    -0.113970  \n",
      "2-Hour serum insulin                            0.185071    -0.042163  \n",
      "Body mass index                                 0.140647     0.036242  \n",
      "Diabetes pedigree function                      1.000000     0.033561  \n",
      "Age (years)                                     0.033561     1.000000  \n"
     ]
    }
   ],
   "source": [
    "print(\"\\nCorrelation:\\n\", correlation)"
   ]
  },
  {
   "cell_type": "code",
   "execution_count": 29,
   "id": "77ba5454-1fa3-4a69-9e32-a15b14bd1845",
   "metadata": {},
   "outputs": [
    {
     "name": "stdout",
     "output_type": "stream",
     "text": [
      "\n",
      "Independent Features:\n",
      " ['Number of times pregnant', 'Plasma glucose concentration', 'Diastolic blood pressure', 'Triceps skin fold thickness', '2-Hour serum insulin', 'Body mass index', 'Diabetes pedigree function', 'Age (years)']\n"
     ]
    }
   ],
   "source": [
    "print(\"\\nIndependent Features:\\n\", list(independent_features))"
   ]
  },
  {
   "cell_type": "code",
   "execution_count": 31,
   "id": "ee388fa9-88c2-4ece-bed2-2285901c5477",
   "metadata": {},
   "outputs": [
    {
     "name": "stdout",
     "output_type": "stream",
     "text": [
      "\n",
      "Unwanted Features (High Correlation):\n",
      " set()\n"
     ]
    }
   ],
   "source": [
    "print(\"\\nUnwanted Features (High Correlation):\\n\", high_correlation_pairs)"
   ]
  },
  {
   "cell_type": "code",
   "execution_count": 33,
   "id": "329826ab-62ae-4aa1-be24-6e691552b1a1",
   "metadata": {},
   "outputs": [
    {
     "name": "stdout",
     "output_type": "stream",
     "text": [
      "\n",
      "Age Bins:\n",
      " [21.  23.  27.  33.  42.6 81. ]\n"
     ]
    }
   ],
   "source": [
    "print(\"\\nAge Bins:\\n\", bins)"
   ]
  },
  {
   "cell_type": "code",
   "execution_count": 35,
   "id": "7109c43c-95aa-4688-ae7a-036d43dedd59",
   "metadata": {},
   "outputs": [
    {
     "name": "stdout",
     "output_type": "stream",
     "text": [
      "\n",
      "Normalized Data Sample:\n",
      "    Plasma glucose concentration_MinMax  Plasma glucose concentration_ZScore  \\\n",
      "0                             0.743719                             0.847771   \n",
      "1                             0.427136                            -1.122665   \n",
      "2                             0.919598                             1.942458   \n",
      "3                             0.447236                            -0.997558   \n",
      "4                             0.688442                             0.503727   \n",
      "\n",
      "   Plasma glucose concentration_Decimal  \n",
      "0                                 0.148  \n",
      "1                                 0.085  \n",
      "2                                 0.183  \n",
      "3                                 0.089  \n",
      "4                                 0.137  \n"
     ]
    }
   ],
   "source": [
    "print(\"\\nNormalized Data Sample:\\n\", df[[\n",
    "    \"Plasma glucose concentration_MinMax\", \"Plasma glucose concentration_ZScore\", \"Plasma glucose concentration_Decimal\"\n",
    "]].head())"
   ]
  },
  {
   "cell_type": "code",
   "execution_count": 38,
   "id": "5b475e3b-74a7-414c-94d8-0abcbaf78d77",
   "metadata": {},
   "outputs": [],
   "source": [
    "# Save processed dataset (optional)\n",
    "df.to_csv(\"Processed_Diabetes.csv\", index=False)"
   ]
  },
  {
   "cell_type": "code",
   "execution_count": null,
   "id": "584d9104-e8de-4feb-b564-25df1bf4cb8e",
   "metadata": {},
   "outputs": [],
   "source": []
  }
 ],
 "metadata": {
  "kernelspec": {
   "display_name": "Python 3 (ipykernel)",
   "language": "python",
   "name": "python3"
  },
  "language_info": {
   "codemirror_mode": {
    "name": "ipython",
    "version": 3
   },
   "file_extension": ".py",
   "mimetype": "text/x-python",
   "name": "python",
   "nbconvert_exporter": "python",
   "pygments_lexer": "ipython3",
   "version": "3.11.7"
  }
 },
 "nbformat": 4,
 "nbformat_minor": 5
}
