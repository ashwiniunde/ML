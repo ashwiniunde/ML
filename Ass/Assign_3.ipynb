{
 "cells": [
  {
   "cell_type": "code",
   "execution_count": 3,
   "id": "33e18764-c5a9-4b00-b6d3-741c09f9a6bb",
   "metadata": {},
   "outputs": [],
   "source": [
    "# Stationery shop dataset\n",
    "dataset = [\n",
    "    ['Pen', 'Notebook', 'Eraser', 'Sharpener'],\n",
    "    ['Pencil', 'Notebook', 'Ruler', 'Marker'],\n",
    "    ['Pen', 'Highlighter', 'Notebook'],\n",
    "    ['Stapler', 'Paper Clips', 'Glue', 'Notebook'],\n",
    "    ['Pen', 'Ruler', 'Sharpener', 'Notebook', 'Marker'],\n",
    "    ['Eraser', 'Sticky Notes', 'Glue'],\n",
    "    ['Pen', 'Notebook', 'Marker', 'Stapler'],\n",
    "    ['Pencil', 'Eraser', 'Sharpener', 'Glue'],\n",
    "    ['Highlighter', 'Notebook', 'Paper Clips'],\n",
    "    ['Pen', 'Notebook', 'Pencil', 'Eraser']\n",
    "]"
   ]
  },
  {
   "cell_type": "code",
   "execution_count": 4,
   "id": "766dec46-b36c-4cdc-8e25-002a0d4aaf0f",
   "metadata": {},
   "outputs": [],
   "source": [
    "# FP-Tree Node Class\n",
    "class FPTreeNode:\n",
    "    def __init__(self, item, count):\n",
    "        self.item = item\n",
    "        self.count = count\n",
    "        self.children = {}"
   ]
  },
  {
   "cell_type": "code",
   "execution_count": 5,
   "id": "0e4dbd7e-4f76-43bf-8bc0-f02975d57a85",
   "metadata": {},
   "outputs": [],
   "source": [
    "# Pre-processing to filter transactions\n",
    "def pre_process(transactions, min_support):\n",
    "    support = {}\n",
    "    for transaction in transactions:\n",
    "        for item in transaction:\n",
    "            support[item] = support.get(item, 0) + 1\n",
    "\n",
    "    # Sorting items based on frequency\n",
    "    sorted_support = dict(sorted(support.items(), key=lambda item: item[1], reverse=True))\n",
    "\n",
    "    # Removing items below min support\n",
    "    filtered_support = {k: v for k, v in sorted_support.items() if v >= min_support}\n",
    "\n",
    "    # Sorting transactions based on filtered support\n",
    "    processed_list = []\n",
    "    for transaction in transactions:\n",
    "        filtered_transaction = [item for item in transaction if item in filtered_support]\n",
    "        processed_list.append(sorted(filtered_transaction, key=lambda x: filtered_support[x], reverse=True))\n",
    "\n",
    "    return processed_list"
   ]
  },
  {
   "cell_type": "code",
   "execution_count": 6,
   "id": "560068cf-16b7-436c-aa81-8087d872438b",
   "metadata": {},
   "outputs": [],
   "source": [
    "# Function to create FP-Tree\n",
    "def create_tree(root, processed_list, i, j):\n",
    "    if j >= len(processed_list[i]):\n",
    "        return\n",
    "    item = processed_list[i][j]\n",
    "    if item in root.children:\n",
    "        root.children[item].count += 1\n",
    "    else:\n",
    "        root.children[item] = FPTreeNode(item, 1)\n",
    "    \n",
    "    create_tree(root.children[item], processed_list, i, j + 1)"
   ]
  },
  {
   "cell_type": "code",
   "execution_count": 7,
   "id": "bca41cbf-7952-479d-9bf7-90d10f034390",
   "metadata": {},
   "outputs": [],
   "source": [
    "# Function to print FP-Tree\n",
    "def print_tree(node, indent=0):\n",
    "    if node.item is not None:\n",
    "        print(\"|  \" * indent + f\"-{node.item} ({node.count})\")\n",
    "    for child in node.children.values():\n",
    "        print_tree(child, indent + 1)"
   ]
  },
  {
   "cell_type": "code",
   "execution_count": 8,
   "id": "16212c9a-05d6-400a-8e04-409b1c42433f",
   "metadata": {},
   "outputs": [],
   "source": [
    "# Function to construct and display FP-Tree\n",
    "def construct_FPTree(transactions, min_support):\n",
    "    processed_list = pre_process(transactions, min_support)\n",
    "    root = FPTreeNode(\"Root\", 0)\n",
    "\n",
    "    for i in range(len(processed_list)):\n",
    "        create_tree(root, processed_list, i, 0)\n",
    "    \n",
    "    print_tree(root)"
   ]
  },
  {
   "cell_type": "code",
   "execution_count": 9,
   "id": "f059a4c8-9035-42d5-86ee-5fb6f0e78c75",
   "metadata": {},
   "outputs": [
    {
     "name": "stdout",
     "output_type": "stream",
     "text": [
      "-Root (0)\n",
      "|  -Notebook (8)\n",
      "|  |  -Pen (5)\n",
      "|  |  |  -Eraser (2)\n",
      "|  |  |  |  -Sharpener (1)\n",
      "|  |  |  |  -Pencil (1)\n",
      "|  |  |  -Highlighter (1)\n",
      "|  |  |  -Sharpener (1)\n",
      "|  |  |  |  -Marker (1)\n",
      "|  |  |  |  |  -Ruler (1)\n",
      "|  |  |  -Marker (1)\n",
      "|  |  |  |  -Stapler (1)\n",
      "|  |  -Pencil (1)\n",
      "|  |  |  -Marker (1)\n",
      "|  |  |  |  -Ruler (1)\n",
      "|  |  -Glue (1)\n",
      "|  |  |  -Stapler (1)\n",
      "|  |  |  |  -Paper Clips (1)\n",
      "|  |  -Highlighter (1)\n",
      "|  |  |  -Paper Clips (1)\n",
      "|  -Eraser (2)\n",
      "|  |  -Glue (1)\n",
      "|  |  -Pencil (1)\n",
      "|  |  |  -Sharpener (1)\n",
      "|  |  |  |  -Glue (1)\n"
     ]
    }
   ],
   "source": [
    "# Run FP-Tree on Stationery Dataset\n",
    "construct_FPTree(dataset, 2)"
   ]
  },
  {
   "cell_type": "code",
   "execution_count": 10,
   "id": "01245d3e-bb52-4840-86e9-a6b2e0d9c165",
   "metadata": {},
   "outputs": [],
   "source": [
    "from mlxtend.frequent_patterns import fpgrowth\n",
    "from mlxtend.frequent_patterns import association_rules\n",
    "from mlxtend.preprocessing import TransactionEncoder\n",
    "import pandas as pd"
   ]
  },
  {
   "cell_type": "code",
   "execution_count": 11,
   "id": "7c80df64-39c3-4710-ba2b-3ab18d71d5b4",
   "metadata": {},
   "outputs": [],
   "source": [
    "\n",
    "# Stationery shop dataset\n",
    "dataset = [\n",
    "    ['Pen', 'Notebook', 'Eraser', 'Sharpener'],\n",
    "    ['Pencil', 'Notebook', 'Ruler', 'Marker'],\n",
    "    ['Pen', 'Highlighter', 'Notebook'],\n",
    "    ['Stapler', 'Paper Clips', 'Glue', 'Notebook'],\n",
    "    ['Pen', 'Ruler', 'Sharpener', 'Notebook', 'Marker'],\n",
    "    ['Eraser', 'Sticky Notes', 'Glue'],\n",
    "    ['Pen', 'Notebook', 'Marker', 'Stapler'],\n",
    "    ['Pencil', 'Eraser', 'Sharpener', 'Glue'],\n",
    "    ['Highlighter', 'Notebook', 'Paper Clips'],\n",
    "    ['Pen', 'Notebook', 'Pencil', 'Eraser']\n",
    "]"
   ]
  },
  {
   "cell_type": "code",
   "execution_count": 12,
   "id": "5daf5891-4f59-4246-ac82-309b5c70695a",
   "metadata": {},
   "outputs": [],
   "source": [
    "# Convert dataset into a format suitable for FP-Growth\n",
    "te = TransactionEncoder()\n",
    "te_ary = te.fit(dataset).transform(dataset)\n",
    "df = pd.DataFrame(te_ary, columns=te.columns_)"
   ]
  },
  {
   "cell_type": "code",
   "execution_count": 13,
   "id": "af319357-4965-49c4-9f93-92ea4a28890c",
   "metadata": {},
   "outputs": [],
   "source": [
    "# Apply FP-Growth algorithm\n",
    "min_support = 0.2  # Minimum support threshold (adjustable)\n",
    "frequent_itemsets = fpgrowth(df, min_support=min_support, use_colnames=True)"
   ]
  },
  {
   "cell_type": "code",
   "execution_count": 14,
   "id": "c953ab19-2794-4601-ad9e-c218e5e67a50",
   "metadata": {},
   "outputs": [
    {
     "name": "stdout",
     "output_type": "stream",
     "text": [
      "Frequent Itemsets:\n",
      "    support                    itemsets\n",
      "0       0.8                  (Notebook)\n",
      "1       0.5                       (Pen)\n",
      "2       0.4                    (Eraser)\n",
      "3       0.3                 (Sharpener)\n",
      "4       0.3                    (Pencil)\n",
      "5       0.3                    (Marker)\n",
      "6       0.2                     (Ruler)\n",
      "7       0.2               (Highlighter)\n",
      "8       0.3                      (Glue)\n",
      "9       0.2                   (Stapler)\n",
      "10      0.2               (Paper Clips)\n",
      "11      0.5             (Pen, Notebook)\n",
      "12      0.2               (Eraser, Pen)\n",
      "13      0.2          (Eraser, Notebook)\n",
      "14      0.2     (Eraser, Pen, Notebook)\n",
      "15      0.2         (Eraser, Sharpener)\n",
      "16      0.2            (Pen, Sharpener)\n",
      "17      0.2       (Notebook, Sharpener)\n",
      "18      0.2  (Pen, Notebook, Sharpener)\n",
      "19      0.2          (Pencil, Notebook)\n",
      "20      0.2            (Eraser, Pencil)\n",
      "21      0.3          (Notebook, Marker)\n",
      "22      0.2               (Pen, Marker)\n",
      "23      0.2     (Pen, Notebook, Marker)\n",
      "24      0.2             (Ruler, Marker)\n",
      "25      0.2           (Ruler, Notebook)\n",
      "26      0.2   (Ruler, Notebook, Marker)\n",
      "27      0.2     (Notebook, Highlighter)\n",
      "28      0.2              (Eraser, Glue)\n",
      "29      0.2         (Stapler, Notebook)\n",
      "30      0.2     (Paper Clips, Notebook)\n"
     ]
    }
   ],
   "source": [
    "# Display frequent itemsets\n",
    "print(\"Frequent Itemsets:\")\n",
    "print(frequent_itemsets)"
   ]
  },
  {
   "cell_type": "code",
   "execution_count": 15,
   "id": "551b2eb9-aca5-4f67-809e-ce86546cdea1",
   "metadata": {},
   "outputs": [],
   "source": [
    "# Generate association rules\n",
    "min_confidence = 0.5  # Minimum confidence threshold (adjustable)\n",
    "rules = association_rules(frequent_itemsets, metric=\"confidence\", min_threshold=min_confidence)"
   ]
  },
  {
   "cell_type": "code",
   "execution_count": 16,
   "id": "744792ae-3826-4e20-b28c-f8190efffc24",
   "metadata": {},
   "outputs": [
    {
     "name": "stdout",
     "output_type": "stream",
     "text": [
      "\n",
      "Association Rules:\n",
      "              antecedents         consequents  support  confidence      lift\n",
      "0                   (Pen)          (Notebook)      0.5    1.000000  1.250000\n",
      "1              (Notebook)               (Pen)      0.5    0.625000  1.250000\n",
      "2                (Eraser)               (Pen)      0.2    0.500000  1.000000\n",
      "3                (Eraser)          (Notebook)      0.2    0.500000  0.625000\n",
      "4           (Eraser, Pen)          (Notebook)      0.2    1.000000  1.250000\n",
      "5      (Eraser, Notebook)               (Pen)      0.2    1.000000  2.000000\n",
      "6                (Eraser)     (Pen, Notebook)      0.2    0.500000  1.000000\n",
      "7                (Eraser)         (Sharpener)      0.2    0.500000  1.666667\n",
      "8             (Sharpener)            (Eraser)      0.2    0.666667  1.666667\n",
      "9             (Sharpener)               (Pen)      0.2    0.666667  1.333333\n",
      "10            (Sharpener)          (Notebook)      0.2    0.666667  0.833333\n",
      "11       (Pen, Sharpener)          (Notebook)      0.2    1.000000  1.250000\n",
      "12  (Notebook, Sharpener)               (Pen)      0.2    1.000000  2.000000\n",
      "13            (Sharpener)     (Pen, Notebook)      0.2    0.666667  1.333333\n",
      "14               (Pencil)          (Notebook)      0.2    0.666667  0.833333\n",
      "15               (Eraser)            (Pencil)      0.2    0.500000  1.666667\n",
      "16               (Pencil)            (Eraser)      0.2    0.666667  1.666667\n",
      "17               (Marker)          (Notebook)      0.3    1.000000  1.250000\n",
      "18               (Marker)               (Pen)      0.2    0.666667  1.333333\n",
      "19          (Pen, Marker)          (Notebook)      0.2    1.000000  1.250000\n",
      "20     (Notebook, Marker)               (Pen)      0.2    0.666667  1.333333\n",
      "21               (Marker)     (Pen, Notebook)      0.2    0.666667  1.333333\n",
      "22                (Ruler)            (Marker)      0.2    1.000000  3.333333\n",
      "23               (Marker)             (Ruler)      0.2    0.666667  3.333333\n",
      "24                (Ruler)          (Notebook)      0.2    1.000000  1.250000\n",
      "25      (Ruler, Notebook)            (Marker)      0.2    1.000000  3.333333\n",
      "26        (Ruler, Marker)          (Notebook)      0.2    1.000000  1.250000\n",
      "27     (Notebook, Marker)             (Ruler)      0.2    0.666667  3.333333\n",
      "28                (Ruler)  (Notebook, Marker)      0.2    1.000000  3.333333\n",
      "29               (Marker)   (Ruler, Notebook)      0.2    0.666667  3.333333\n",
      "30          (Highlighter)          (Notebook)      0.2    1.000000  1.250000\n",
      "31               (Eraser)              (Glue)      0.2    0.500000  1.666667\n",
      "32                 (Glue)            (Eraser)      0.2    0.666667  1.666667\n",
      "33              (Stapler)          (Notebook)      0.2    1.000000  1.250000\n",
      "34          (Paper Clips)          (Notebook)      0.2    1.000000  1.250000\n"
     ]
    }
   ],
   "source": [
    "# Printing only the association rules\n",
    "print(\"\\nAssociation Rules:\")\n",
    "print(rules[['antecedents', 'consequents', 'support', 'confidence', 'lift']])"
   ]
  },
  {
   "cell_type": "code",
   "execution_count": null,
   "id": "f2d80ac6-c28d-44de-8b14-2066e0bffc36",
   "metadata": {},
   "outputs": [],
   "source": []
  },
  {
   "cell_type": "code",
   "execution_count": null,
   "id": "2b1eebb3-315f-4a9b-a70d-30f6c1578520",
   "metadata": {},
   "outputs": [],
   "source": []
  },
  {
   "cell_type": "code",
   "execution_count": null,
   "id": "762c4ec3-4df7-4e30-9026-2b1d1f76d2a9",
   "metadata": {},
   "outputs": [],
   "source": []
  },
  {
   "cell_type": "code",
   "execution_count": null,
   "id": "ca358124-f676-4fd2-9d6b-e6d76cb727e5",
   "metadata": {},
   "outputs": [],
   "source": []
  }
 ],
 "metadata": {
  "kernelspec": {
   "display_name": "Python 3 (ipykernel)",
   "language": "python",
   "name": "python3"
  },
  "language_info": {
   "codemirror_mode": {
    "name": "ipython",
    "version": 3
   },
   "file_extension": ".py",
   "mimetype": "text/x-python",
   "name": "python",
   "nbconvert_exporter": "python",
   "pygments_lexer": "ipython3",
   "version": "3.11.7"
  }
 },
 "nbformat": 4,
 "nbformat_minor": 5
}
