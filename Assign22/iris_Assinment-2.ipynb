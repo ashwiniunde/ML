{
 "cells": [
  {
   "cell_type": "raw",
   "id": "1771a14e-8cdb-4ac9-9e36-b4244f1b0be5",
   "metadata": {},
   "source": [
    "Data Discretization and Data Normalization. Use any suitable dataset \n",
    "(e.g. heart dataset Data.D/www.kaggle.com/zhaoyinnguage artesv). \n",
    "Perform following operations on given dataset suitable programming\n",
    "\n",
    "a) Find standard deviation, variance of every numerical attribute.\n",
    "\n",
    "b) Find covariance and perform Correlation analysis using Correlation coefficient.\n",
    "\n",
    "c) How many independent features are present in the given dataset?\n",
    "\n",
    "d) Can we identify unwanted features?\n",
    "\n",
    "e) Perform the data discretization using equi frequency binning method on age attribute\n",
    "\n",
    "f) Normalize RestBP, chol, and MaxHR attributes (considering above dataset) \n",
    "using min-max normalization, Z-score normalization, and decimal scaling normalization."
   ]
  },
  {
   "cell_type": "code",
   "execution_count": 1,
   "id": "a3ef054b-5624-435d-bba1-a5a08c98b8d8",
   "metadata": {},
   "outputs": [],
   "source": [
    "import pandas as pd \n",
    "import numpy as np \n",
    "import matplotlib.pyplot as plt \n",
    "import seaborn as sns "
   ]
  },
  {
   "cell_type": "code",
   "execution_count": 2,
   "id": "73b24d7c-832a-48f5-8fcc-971ec6661429",
   "metadata": {},
   "outputs": [
    {
     "data": {
      "text/html": [
       "<div>\n",
       "<style scoped>\n",
       "    .dataframe tbody tr th:only-of-type {\n",
       "        vertical-align: middle;\n",
       "    }\n",
       "\n",
       "    .dataframe tbody tr th {\n",
       "        vertical-align: top;\n",
       "    }\n",
       "\n",
       "    .dataframe thead th {\n",
       "        text-align: right;\n",
       "    }\n",
       "</style>\n",
       "<table border=\"1\" class=\"dataframe\">\n",
       "  <thead>\n",
       "    <tr style=\"text-align: right;\">\n",
       "      <th></th>\n",
       "      <th>sepal_length</th>\n",
       "      <th>sepal_width</th>\n",
       "      <th>petal_length</th>\n",
       "      <th>petal_width</th>\n",
       "      <th>species</th>\n",
       "    </tr>\n",
       "  </thead>\n",
       "  <tbody>\n",
       "    <tr>\n",
       "      <th>0</th>\n",
       "      <td>5.1</td>\n",
       "      <td>3.5</td>\n",
       "      <td>1.4</td>\n",
       "      <td>0.2</td>\n",
       "      <td>setosa</td>\n",
       "    </tr>\n",
       "    <tr>\n",
       "      <th>1</th>\n",
       "      <td>4.9</td>\n",
       "      <td>3.0</td>\n",
       "      <td>1.4</td>\n",
       "      <td>0.2</td>\n",
       "      <td>setosa</td>\n",
       "    </tr>\n",
       "    <tr>\n",
       "      <th>2</th>\n",
       "      <td>4.7</td>\n",
       "      <td>3.2</td>\n",
       "      <td>1.3</td>\n",
       "      <td>0.2</td>\n",
       "      <td>setosa</td>\n",
       "    </tr>\n",
       "    <tr>\n",
       "      <th>3</th>\n",
       "      <td>4.6</td>\n",
       "      <td>3.1</td>\n",
       "      <td>1.5</td>\n",
       "      <td>0.2</td>\n",
       "      <td>setosa</td>\n",
       "    </tr>\n",
       "  </tbody>\n",
       "</table>\n",
       "</div>"
      ],
      "text/plain": [
       "   sepal_length  sepal_width  petal_length  petal_width species\n",
       "0           5.1          3.5           1.4          0.2  setosa\n",
       "1           4.9          3.0           1.4          0.2  setosa\n",
       "2           4.7          3.2           1.3          0.2  setosa\n",
       "3           4.6          3.1           1.5          0.2  setosa"
      ]
     },
     "execution_count": 2,
     "metadata": {},
     "output_type": "execute_result"
    }
   ],
   "source": [
    "df=pd.read_csv(\"iris.csv\")\n",
    "\n",
    "df.head(4)"
   ]
  },
  {
   "cell_type": "markdown",
   "id": "88a9d87d-a501-4805-850f-45feca8f62df",
   "metadata": {},
   "source": [
    "# Data UnderStanding "
   ]
  },
  {
   "cell_type": "code",
   "execution_count": 3,
   "id": "6205f113-3a2b-450b-a211-a999e9aca9f9",
   "metadata": {},
   "outputs": [
    {
     "data": {
      "text/plain": [
       "(150, 5)"
      ]
     },
     "execution_count": 3,
     "metadata": {},
     "output_type": "execute_result"
    }
   ],
   "source": [
    "df.shape"
   ]
  },
  {
   "cell_type": "code",
   "execution_count": 4,
   "id": "901b29b7-a736-4528-af4f-fd3931ab4cad",
   "metadata": {},
   "outputs": [
    {
     "data": {
      "text/plain": [
       "sepal_length    0\n",
       "sepal_width     0\n",
       "petal_length    0\n",
       "petal_width     0\n",
       "species         0\n",
       "dtype: int64"
      ]
     },
     "execution_count": 4,
     "metadata": {},
     "output_type": "execute_result"
    }
   ],
   "source": [
    "df.isnull().sum()"
   ]
  },
  {
   "cell_type": "code",
   "execution_count": 5,
   "id": "bfb9f24e-968d-41fa-80d6-292df176fd65",
   "metadata": {},
   "outputs": [
    {
     "data": {
      "text/plain": [
       "sepal_length    0\n",
       "sepal_width     0\n",
       "petal_length    0\n",
       "petal_width     0\n",
       "species         0\n",
       "dtype: int64"
      ]
     },
     "execution_count": 5,
     "metadata": {},
     "output_type": "execute_result"
    }
   ],
   "source": [
    "df.isnull().sum()"
   ]
  },
  {
   "cell_type": "code",
   "execution_count": 6,
   "id": "0e3dd3b4-70a7-45e0-8420-a19883a9023e",
   "metadata": {},
   "outputs": [
    {
     "name": "stdout",
     "output_type": "stream",
     "text": [
      "<class 'pandas.core.frame.DataFrame'>\n",
      "RangeIndex: 150 entries, 0 to 149\n",
      "Data columns (total 5 columns):\n",
      " #   Column        Non-Null Count  Dtype  \n",
      "---  ------        --------------  -----  \n",
      " 0   sepal_length  150 non-null    float64\n",
      " 1   sepal_width   150 non-null    float64\n",
      " 2   petal_length  150 non-null    float64\n",
      " 3   petal_width   150 non-null    float64\n",
      " 4   species       150 non-null    object \n",
      "dtypes: float64(4), object(1)\n",
      "memory usage: 6.0+ KB\n"
     ]
    }
   ],
   "source": [
    "df.info()"
   ]
  },
  {
   "cell_type": "code",
   "execution_count": 7,
   "id": "85e2ed70-331e-441b-99f8-a8d964aaa3e8",
   "metadata": {},
   "outputs": [
    {
     "data": {
      "text/html": [
       "<div>\n",
       "<style scoped>\n",
       "    .dataframe tbody tr th:only-of-type {\n",
       "        vertical-align: middle;\n",
       "    }\n",
       "\n",
       "    .dataframe tbody tr th {\n",
       "        vertical-align: top;\n",
       "    }\n",
       "\n",
       "    .dataframe thead th {\n",
       "        text-align: right;\n",
       "    }\n",
       "</style>\n",
       "<table border=\"1\" class=\"dataframe\">\n",
       "  <thead>\n",
       "    <tr style=\"text-align: right;\">\n",
       "      <th></th>\n",
       "      <th>sepal_length</th>\n",
       "      <th>sepal_width</th>\n",
       "      <th>petal_length</th>\n",
       "      <th>petal_width</th>\n",
       "    </tr>\n",
       "  </thead>\n",
       "  <tbody>\n",
       "    <tr>\n",
       "      <th>count</th>\n",
       "      <td>150.000000</td>\n",
       "      <td>150.000000</td>\n",
       "      <td>150.000000</td>\n",
       "      <td>150.000000</td>\n",
       "    </tr>\n",
       "    <tr>\n",
       "      <th>mean</th>\n",
       "      <td>5.843333</td>\n",
       "      <td>3.054000</td>\n",
       "      <td>3.758667</td>\n",
       "      <td>1.198667</td>\n",
       "    </tr>\n",
       "    <tr>\n",
       "      <th>std</th>\n",
       "      <td>0.828066</td>\n",
       "      <td>0.433594</td>\n",
       "      <td>1.764420</td>\n",
       "      <td>0.763161</td>\n",
       "    </tr>\n",
       "    <tr>\n",
       "      <th>min</th>\n",
       "      <td>4.300000</td>\n",
       "      <td>2.000000</td>\n",
       "      <td>1.000000</td>\n",
       "      <td>0.100000</td>\n",
       "    </tr>\n",
       "    <tr>\n",
       "      <th>25%</th>\n",
       "      <td>5.100000</td>\n",
       "      <td>2.800000</td>\n",
       "      <td>1.600000</td>\n",
       "      <td>0.300000</td>\n",
       "    </tr>\n",
       "    <tr>\n",
       "      <th>50%</th>\n",
       "      <td>5.800000</td>\n",
       "      <td>3.000000</td>\n",
       "      <td>4.350000</td>\n",
       "      <td>1.300000</td>\n",
       "    </tr>\n",
       "    <tr>\n",
       "      <th>75%</th>\n",
       "      <td>6.400000</td>\n",
       "      <td>3.300000</td>\n",
       "      <td>5.100000</td>\n",
       "      <td>1.800000</td>\n",
       "    </tr>\n",
       "    <tr>\n",
       "      <th>max</th>\n",
       "      <td>7.900000</td>\n",
       "      <td>4.400000</td>\n",
       "      <td>6.900000</td>\n",
       "      <td>2.500000</td>\n",
       "    </tr>\n",
       "  </tbody>\n",
       "</table>\n",
       "</div>"
      ],
      "text/plain": [
       "       sepal_length  sepal_width  petal_length  petal_width\n",
       "count    150.000000   150.000000    150.000000   150.000000\n",
       "mean       5.843333     3.054000      3.758667     1.198667\n",
       "std        0.828066     0.433594      1.764420     0.763161\n",
       "min        4.300000     2.000000      1.000000     0.100000\n",
       "25%        5.100000     2.800000      1.600000     0.300000\n",
       "50%        5.800000     3.000000      4.350000     1.300000\n",
       "75%        6.400000     3.300000      5.100000     1.800000\n",
       "max        7.900000     4.400000      6.900000     2.500000"
      ]
     },
     "execution_count": 7,
     "metadata": {},
     "output_type": "execute_result"
    }
   ],
   "source": [
    "df.describe()"
   ]
  },
  {
   "cell_type": "code",
   "execution_count": 8,
   "id": "53eff34a-aadc-4933-8722-50243e939529",
   "metadata": {},
   "outputs": [
    {
     "data": {
      "text/html": [
       "<div>\n",
       "<style scoped>\n",
       "    .dataframe tbody tr th:only-of-type {\n",
       "        vertical-align: middle;\n",
       "    }\n",
       "\n",
       "    .dataframe tbody tr th {\n",
       "        vertical-align: top;\n",
       "    }\n",
       "\n",
       "    .dataframe thead th {\n",
       "        text-align: right;\n",
       "    }\n",
       "</style>\n",
       "<table border=\"1\" class=\"dataframe\">\n",
       "  <thead>\n",
       "    <tr style=\"text-align: right;\">\n",
       "      <th></th>\n",
       "      <th>sepal_length</th>\n",
       "      <th>sepal_width</th>\n",
       "      <th>petal_length</th>\n",
       "      <th>petal_width</th>\n",
       "    </tr>\n",
       "  </thead>\n",
       "  <tbody>\n",
       "    <tr>\n",
       "      <th>sepal_length</th>\n",
       "      <td>1.000000</td>\n",
       "      <td>-0.109369</td>\n",
       "      <td>0.871754</td>\n",
       "      <td>0.817954</td>\n",
       "    </tr>\n",
       "    <tr>\n",
       "      <th>sepal_width</th>\n",
       "      <td>-0.109369</td>\n",
       "      <td>1.000000</td>\n",
       "      <td>-0.420516</td>\n",
       "      <td>-0.356544</td>\n",
       "    </tr>\n",
       "    <tr>\n",
       "      <th>petal_length</th>\n",
       "      <td>0.871754</td>\n",
       "      <td>-0.420516</td>\n",
       "      <td>1.000000</td>\n",
       "      <td>0.962757</td>\n",
       "    </tr>\n",
       "    <tr>\n",
       "      <th>petal_width</th>\n",
       "      <td>0.817954</td>\n",
       "      <td>-0.356544</td>\n",
       "      <td>0.962757</td>\n",
       "      <td>1.000000</td>\n",
       "    </tr>\n",
       "  </tbody>\n",
       "</table>\n",
       "</div>"
      ],
      "text/plain": [
       "              sepal_length  sepal_width  petal_length  petal_width\n",
       "sepal_length      1.000000    -0.109369      0.871754     0.817954\n",
       "sepal_width      -0.109369     1.000000     -0.420516    -0.356544\n",
       "petal_length      0.871754    -0.420516      1.000000     0.962757\n",
       "petal_width       0.817954    -0.356544      0.962757     1.000000"
      ]
     },
     "execution_count": 8,
     "metadata": {},
     "output_type": "execute_result"
    }
   ],
   "source": [
    "X = df.drop(columns=['species'])\n",
    "X.corr()"
   ]
  },
  {
   "cell_type": "code",
   "execution_count": 9,
   "id": "7b95e327-b4a0-4099-a2d3-d876d020860b",
   "metadata": {},
   "outputs": [
    {
     "name": "stderr",
     "output_type": "stream",
     "text": [
      "C:\\Users\\ashwi\\AppData\\Local\\Temp\\ipykernel_10392\\3390915376.py:1: FutureWarning: The default value of numeric_only in DataFrame.std is deprecated. In a future version, it will default to False. In addition, specifying 'numeric_only=None' is deprecated. Select only valid columns or specify the value of numeric_only to silence this warning.\n",
      "  df.std()\n"
     ]
    },
    {
     "data": {
      "text/plain": [
       "sepal_length    0.828066\n",
       "sepal_width     0.433594\n",
       "petal_length    1.764420\n",
       "petal_width     0.763161\n",
       "dtype: float64"
      ]
     },
     "execution_count": 9,
     "metadata": {},
     "output_type": "execute_result"
    }
   ],
   "source": [
    "df.std()"
   ]
  },
  {
   "cell_type": "code",
   "execution_count": 10,
   "id": "e8c4463e-651d-47ac-b93f-b744005be90e",
   "metadata": {},
   "outputs": [
    {
     "name": "stderr",
     "output_type": "stream",
     "text": [
      "C:\\Users\\ashwi\\AppData\\Local\\Temp\\ipykernel_10392\\1568254755.py:1: FutureWarning: The default value of numeric_only in DataFrame.var is deprecated. In a future version, it will default to False. In addition, specifying 'numeric_only=None' is deprecated. Select only valid columns or specify the value of numeric_only to silence this warning.\n",
      "  df.var()\n"
     ]
    },
    {
     "data": {
      "text/plain": [
       "sepal_length    0.685694\n",
       "sepal_width     0.188004\n",
       "petal_length    3.113179\n",
       "petal_width     0.582414\n",
       "dtype: float64"
      ]
     },
     "execution_count": 10,
     "metadata": {},
     "output_type": "execute_result"
    }
   ],
   "source": [
    "df.var()"
   ]
  },
  {
   "cell_type": "code",
   "execution_count": 11,
   "id": "6ceabf7e-fcb8-4fb6-8da4-3615a3711b81",
   "metadata": {},
   "outputs": [
    {
     "name": "stderr",
     "output_type": "stream",
     "text": [
      "C:\\Users\\ashwi\\AppData\\Local\\Temp\\ipykernel_10392\\1545644723.py:1: FutureWarning: The default value of numeric_only in DataFrame.cov is deprecated. In a future version, it will default to False. Select only valid columns or specify the value of numeric_only to silence this warning.\n",
      "  df.cov()\n"
     ]
    },
    {
     "data": {
      "text/html": [
       "<div>\n",
       "<style scoped>\n",
       "    .dataframe tbody tr th:only-of-type {\n",
       "        vertical-align: middle;\n",
       "    }\n",
       "\n",
       "    .dataframe tbody tr th {\n",
       "        vertical-align: top;\n",
       "    }\n",
       "\n",
       "    .dataframe thead th {\n",
       "        text-align: right;\n",
       "    }\n",
       "</style>\n",
       "<table border=\"1\" class=\"dataframe\">\n",
       "  <thead>\n",
       "    <tr style=\"text-align: right;\">\n",
       "      <th></th>\n",
       "      <th>sepal_length</th>\n",
       "      <th>sepal_width</th>\n",
       "      <th>petal_length</th>\n",
       "      <th>petal_width</th>\n",
       "    </tr>\n",
       "  </thead>\n",
       "  <tbody>\n",
       "    <tr>\n",
       "      <th>sepal_length</th>\n",
       "      <td>0.685694</td>\n",
       "      <td>-0.039268</td>\n",
       "      <td>1.273682</td>\n",
       "      <td>0.516904</td>\n",
       "    </tr>\n",
       "    <tr>\n",
       "      <th>sepal_width</th>\n",
       "      <td>-0.039268</td>\n",
       "      <td>0.188004</td>\n",
       "      <td>-0.321713</td>\n",
       "      <td>-0.117981</td>\n",
       "    </tr>\n",
       "    <tr>\n",
       "      <th>petal_length</th>\n",
       "      <td>1.273682</td>\n",
       "      <td>-0.321713</td>\n",
       "      <td>3.113179</td>\n",
       "      <td>1.296387</td>\n",
       "    </tr>\n",
       "    <tr>\n",
       "      <th>petal_width</th>\n",
       "      <td>0.516904</td>\n",
       "      <td>-0.117981</td>\n",
       "      <td>1.296387</td>\n",
       "      <td>0.582414</td>\n",
       "    </tr>\n",
       "  </tbody>\n",
       "</table>\n",
       "</div>"
      ],
      "text/plain": [
       "              sepal_length  sepal_width  petal_length  petal_width\n",
       "sepal_length      0.685694    -0.039268      1.273682     0.516904\n",
       "sepal_width      -0.039268     0.188004     -0.321713    -0.117981\n",
       "petal_length      1.273682    -0.321713      3.113179     1.296387\n",
       "petal_width       0.516904    -0.117981      1.296387     0.582414"
      ]
     },
     "execution_count": 11,
     "metadata": {},
     "output_type": "execute_result"
    }
   ],
   "source": [
    "df.cov()"
   ]
  },
  {
   "cell_type": "code",
   "execution_count": 16,
   "id": "96df3558-0612-4922-95be-a624fb71cc4e",
   "metadata": {},
   "outputs": [
    {
     "name": "stdout",
     "output_type": "stream",
     "text": [
      "the kertosis of sepal_length== -0.5520640413156395\n",
      "the kertosis of sepal_width== 0.2907810623654279\n",
      "the kertosis of petal_length== -1.4019208006454036\n",
      "the kertosis of petal_width== -1.3397541711393433\n"
     ]
    }
   ],
   "source": [
    "for i in X.columns: \n",
    "    print(f\"the kertosis of {i}== {df[i].kurtosis()}\")"
   ]
  },
  {
   "cell_type": "markdown",
   "id": "b959141c-4ee6-44eb-84bb-673c9bf41a7e",
   "metadata": {},
   "source": [
    "# Data Opretions"
   ]
  },
  {
   "cell_type": "code",
   "execution_count": 17,
   "id": "2ae0d476-a055-43e2-a0d3-f524f2942d36",
   "metadata": {},
   "outputs": [],
   "source": [
    "#1. cal var and std and corr without using inbulid functions"
   ]
  },
  {
   "cell_type": "code",
   "execution_count": 18,
   "id": "e2f3d315-0fe3-4ec9-a078-02cee0634ddf",
   "metadata": {},
   "outputs": [
    {
     "name": "stderr",
     "output_type": "stream",
     "text": [
      "C:\\Users\\ashwi\\AppData\\Local\\Temp\\ipykernel_10392\\3698961737.py:1: FutureWarning: The default value of numeric_only in DataFrame.mean is deprecated. In a future version, it will default to False. In addition, specifying 'numeric_only=None' is deprecated. Select only valid columns or specify the value of numeric_only to silence this warning.\n",
      "  df.mean()\n"
     ]
    },
    {
     "data": {
      "text/plain": [
       "sepal_length    5.843333\n",
       "sepal_width     3.054000\n",
       "petal_length    3.758667\n",
       "petal_width     1.198667\n",
       "dtype: float64"
      ]
     },
     "execution_count": 18,
     "metadata": {},
     "output_type": "execute_result"
    }
   ],
   "source": [
    "df.mean()"
   ]
  },
  {
   "cell_type": "code",
   "execution_count": 21,
   "id": "21c81cd1-55ba-4575-9deb-91912b043387",
   "metadata": {},
   "outputs": [],
   "source": [
    "def mean_cal(col):  # Function definition that takes a column name as an argument\n",
    "    k = 0  # Initialize a variable to store the sum of all values in the column\n",
    "    for i in range(df[col].shape[0]):  # Iterate through each row index in the column\n",
    "        k = k + df[col][i]  # Add each value in the column to k\n",
    "    m = k / df[col].shape[0]  # Compute the mean by dividing the sum by the total number of rows\n",
    "    return m  # Return the calculated mean\n"
   ]
  },
  {
   "cell_type": "code",
   "execution_count": 22,
   "id": "e3409cf8-6f17-4360-b82c-40eda8456d9b",
   "metadata": {},
   "outputs": [
    {
     "data": {
      "text/plain": [
       "3.0540000000000007"
      ]
     },
     "execution_count": 22,
     "metadata": {},
     "output_type": "execute_result"
    }
   ],
   "source": [
    "mean_cal('sepal_width')"
   ]
  },
  {
   "cell_type": "code",
   "execution_count": 23,
   "id": "45e79d6f-9be6-42d2-acad-a209b5ec4614",
   "metadata": {},
   "outputs": [
    {
     "name": "stdout",
     "output_type": "stream",
     "text": [
      "mean of sepal_length  5.843333333333335  5.843333333333334\n",
      "mean of sepal_width  3.0540000000000007  3.0540000000000003\n",
      "mean of petal_length  3.7586666666666693  3.758666666666666\n",
      "mean of petal_width  1.1986666666666672  1.1986666666666668\n"
     ]
    }
   ],
   "source": [
    "for i in X : \n",
    "    print(f\"mean of {i}  {mean_cal(i)}  {df[i].mean()}\")"
   ]
  },
  {
   "cell_type": "markdown",
   "id": "3c6c6d4f-f951-41dc-a7b8-dc44eaa17ca6",
   "metadata": {},
   "source": [
    "# Variance "
   ]
  },
  {
   "cell_type": "code",
   "execution_count": 24,
   "id": "293d9dfb-f7a4-4240-8362-8626538d0223",
   "metadata": {},
   "outputs": [],
   "source": [
    "def var_cal(col):  # Function to calculate variance of a column\n",
    "    k = 0  # Initialize a variable to store the sum of squared differences\n",
    "    mean_c = mean_cal(col)  # Calculate the mean of the column using mean_cal function\n",
    "    for i in range(df[col].shape[0]):  # Iterate through each row index in the column\n",
    "        k = k + ((df[col][i] - mean_c) ** 2)  # Compute squared difference from mean and add it to k\n",
    "    m = k / df[col].shape[0]  # Compute variance by dividing the sum by the number of elements (N)\n",
    "    return m  # Return the variance\n",
    "\n",
    "# A high variance or standard deviation means data points are spread out,\n",
    "    # while a low value means they are close to the mean."
   ]
  },
  {
   "cell_type": "code",
   "execution_count": 25,
   "id": "805ab983-c12a-43b6-895c-b097496f36d3",
   "metadata": {},
   "outputs": [
    {
     "data": {
      "text/plain": [
       "0.1867506666666667"
      ]
     },
     "execution_count": 25,
     "metadata": {},
     "output_type": "execute_result"
    }
   ],
   "source": [
    "var_cal('sepal_width')"
   ]
  },
  {
   "cell_type": "code",
   "execution_count": 26,
   "id": "f6cccfaa-43e1-4b7b-a77f-b13f778aa6fe",
   "metadata": {},
   "outputs": [
    {
     "data": {
      "text/plain": [
       "0.18800402684563763"
      ]
     },
     "execution_count": 26,
     "metadata": {},
     "output_type": "execute_result"
    }
   ],
   "source": [
    "df['sepal_width'].var()"
   ]
  },
  {
   "cell_type": "code",
   "execution_count": 28,
   "id": "dcbea447-2a70-4cb7-9fbb-3ce8a7f44bf5",
   "metadata": {},
   "outputs": [
    {
     "name": "stdout",
     "output_type": "stream",
     "text": [
      "variance of sepal_length  0.6811222222222222  0.6856935123042505\n",
      "variance of sepal_width  0.1867506666666667  0.18800402684563763\n",
      "variance of petal_length  3.0924248888888854  3.1131794183445156\n",
      "variance of petal_width  0.5785315555555559  0.5824143176733784\n"
     ]
    }
   ],
   "source": [
    "for i in X : \n",
    "    print(f\"variance of {i}  {var_cal(i)}  {df[i].var()}\")"
   ]
  },
  {
   "cell_type": "markdown",
   "id": "758ba556-b049-4435-a5ff-91c063d4bc60",
   "metadata": {},
   "source": [
    "# Standard Deviation"
   ]
  },
  {
   "cell_type": "code",
   "execution_count": 29,
   "id": "4d557838-2c4f-474d-8970-04dee34134dc",
   "metadata": {},
   "outputs": [],
   "source": [
    "def std_cal(col): \n",
    "    k = 0  \n",
    "    mean_c = mean_cal(col)  # Calculate the mean of the column\n",
    "    for i in range(df[col].shape[0]):  \n",
    "        k = k + ((df[col][i] - mean_c) ** 2)  # Sum of squared differences from the mean\n",
    "    variance = k / df[col].shape[0]  # Compute variance\n",
    "    std_dev = variance ** 0.5  # Take square root to get standard deviation\n",
    "    return std_dev  # Return the standard deviation\n"
   ]
  },
  {
   "cell_type": "code",
   "execution_count": 30,
   "id": "31ae978b-cdd8-45b3-af0e-3ee9e2d9f5c5",
   "metadata": {},
   "outputs": [],
   "source": [
    "def std_cal(col):\n",
    "    return df[col].std(ddof=0)  # ddof=0 for population standard deviation, ddof=1 for sample standard deviation\n"
   ]
  },
  {
   "cell_type": "code",
   "execution_count": 31,
   "id": "b1e5fab5-c53e-445e-8f95-a4d30521303c",
   "metadata": {},
   "outputs": [
    {
     "name": "stdout",
     "output_type": "stream",
     "text": [
      "STD D. of sepal_length  0.8253012917851409  0.6856935123042505\n",
      "STD D. of sepal_width  0.4321465800705435  0.18800402684563763\n",
      "STD D. of petal_length  1.7585291834055201  3.1131794183445156\n",
      "STD D. of petal_width  0.760612618588172  0.5824143176733784\n"
     ]
    }
   ],
   "source": [
    "for i in X : \n",
    "    print(f\"STD D. of {i}  {std_cal(i)}  {df[i].var()}\")"
   ]
  },
  {
   "cell_type": "code",
   "execution_count": 32,
   "id": "d044c5ce-0f20-4a96-accf-ffde6573355e",
   "metadata": {},
   "outputs": [
    {
     "name": "stderr",
     "output_type": "stream",
     "text": [
      "C:\\Users\\ashwi\\AppData\\Local\\Temp\\ipykernel_10392\\3637484707.py:1: FutureWarning: The default value of numeric_only in DataFrame.std is deprecated. In a future version, it will default to False. In addition, specifying 'numeric_only=None' is deprecated. Select only valid columns or specify the value of numeric_only to silence this warning.\n",
      "  df.std()\n"
     ]
    },
    {
     "data": {
      "text/plain": [
       "sepal_length    0.828066\n",
       "sepal_width     0.433594\n",
       "petal_length    1.764420\n",
       "petal_width     0.763161\n",
       "dtype: float64"
      ]
     },
     "execution_count": 32,
     "metadata": {},
     "output_type": "execute_result"
    }
   ],
   "source": [
    "\n",
    "\n",
    "df.std()"
   ]
  },
  {
   "cell_type": "markdown",
   "id": "a7df1bba-f0aa-48be-9611-7659551044c2",
   "metadata": {},
   "source": [
    "# b) Find covariance and perform Correlation analysis using Correlation coefficient."
   ]
  },
  {
   "cell_type": "code",
   "execution_count": 33,
   "id": "23055b60-7747-42ce-b614-1bab01534c92",
   "metadata": {},
   "outputs": [],
   "source": [
    "# co varance of data \n",
    "def co_var_cal(col1,col2) : \n",
    "    k=0\n",
    "    mean_c1=mean_cal(col1)\n",
    "    mean_c2=mean_cal(col2)\n",
    "    for i in range(df.shape[0]): \n",
    "        k=k+((df[col1][i] - mean_c1)*(df[col2][i] - mean_c2))\n",
    "    m=k/df.shape[0]\n",
    "    return m;        \n",
    "#Covariance is a statistical measure that quantifies the relationship between two variables.\n",
    "    #It indicates whether two variables tend to increase or decrease together.\n",
    "\n",
    "#If covariance is positive, it means that as one variable increases, the other also tends to increase.\n",
    "#If covariance is negative, one variable increases while the other decreases. \n",
    "#A covariance of zero indicates no relationship between the two variables."
   ]
  },
  {
   "cell_type": "code",
   "execution_count": 34,
   "id": "e93b7bb3-e335-4c5b-80b3-b7a43f2394bd",
   "metadata": {},
   "outputs": [
    {
     "data": {
      "text/plain": [
       "-0.03900666666666667"
      ]
     },
     "execution_count": 34,
     "metadata": {},
     "output_type": "execute_result"
    }
   ],
   "source": [
    "co_var_cal('sepal_width','sepal_length')"
   ]
  },
  {
   "cell_type": "code",
   "execution_count": 35,
   "id": "ae16b871-a981-49a5-a567-b52b38d820af",
   "metadata": {},
   "outputs": [
    {
     "name": "stdout",
     "output_type": "stream",
     "text": [
      "co-var sepal_length and sepal_length  0.6811222222222222\n",
      "co-var sepal_length and sepal_width  -0.03900666666666667\n",
      "co-var sepal_length and petal_length  1.2651911111111114\n",
      "co-var sepal_length and petal_width  0.5134577777777779\n",
      "co-var sepal_width and sepal_length  -0.03900666666666667\n",
      "co-var sepal_width and sepal_width  0.1867506666666667\n",
      "co-var sepal_width and petal_length  -0.31956800000000013\n",
      "co-var sepal_width and petal_width  -0.11719466666666661\n",
      "co-var petal_length and sepal_length  1.2651911111111114\n",
      "co-var petal_length and sepal_width  -0.31956800000000013\n",
      "co-var petal_length and petal_length  3.0924248888888854\n",
      "co-var petal_length and petal_width  1.2877448888888892\n",
      "co-var petal_width and sepal_length  0.5134577777777779\n",
      "co-var petal_width and sepal_width  -0.11719466666666661\n",
      "co-var petal_width and petal_length  1.2877448888888892\n",
      "co-var petal_width and petal_width  0.5785315555555559\n"
     ]
    }
   ],
   "source": [
    "for i in X: \n",
    "    for j in X: \n",
    "        print(f\"co-var {i} and {j}  {co_var_cal(i,j)}\")"
   ]
  },
  {
   "cell_type": "code",
   "execution_count": 36,
   "id": "7ac650b2-61e4-4b9b-b84a-b327ceb41a4d",
   "metadata": {},
   "outputs": [],
   "source": [
    "# co relection  \n",
    "import math  # Importing math module for square root calculation\n",
    "\n",
    "def co_reletion(col1, col2):  # Function to calculate correlation coefficient\n",
    "    k = 0  # Unused variable (can be removed)\n",
    "    \n",
    "    co_var = co_var_cal(col1, col2)  # Compute covariance using a predefined function `co_var_cal`\n",
    "    \n",
    "    std1 = math.sqrt(var_cal(col1))  # Compute standard deviation of col1 (square root of variance)\n",
    "    std2 = math.sqrt(var_cal(col2))  # Compute standard deviation of col2 (square root of variance)\n",
    "\n",
    "    m = co_var / (std1 * std2)  # Compute correlation coefficient (Pearson's correlation formula)\n",
    "    \n",
    "    return m  # Return the correlation value\n",
    "          \n",
    "\n",
    "#If r > 0: There is a positive correlation (as X increases, Y tends to increase).\n",
    "#If r < 0: There is a negative correlation (as X increases, Y tends to decrease).\n",
    "#If r ≈ 0: No significant correlation."
   ]
  },
  {
   "cell_type": "code",
   "execution_count": 37,
   "id": "5631aab0-7050-4f00-8505-5e1d01d0b7cc",
   "metadata": {},
   "outputs": [
    {
     "name": "stdout",
     "output_type": "stream",
     "text": [
      "co-relation sepal_length and sepal_length  0.9999999999999999\n",
      "co-relation sepal_length and sepal_width  -0.10936924995064935\n",
      "co-relation sepal_length and petal_length  0.8717541573048718\n",
      "co-relation sepal_length and petal_width  0.8179536333691633\n",
      "co-relation sepal_width and sepal_length  -0.10936924995064935\n",
      "co-relation sepal_width and sepal_width  1.0000000000000002\n",
      "co-relation sepal_width and petal_length  -0.42051609640115495\n",
      "co-relation sepal_width and petal_width  -0.3565440896138055\n",
      "co-relation petal_length and sepal_length  0.8717541573048718\n",
      "co-relation petal_length and sepal_width  -0.42051609640115495\n",
      "co-relation petal_length and petal_length  1.0\n",
      "co-relation petal_length and petal_width  0.9627570970509667\n",
      "co-relation petal_width and sepal_length  0.8179536333691633\n",
      "co-relation petal_width and sepal_width  -0.3565440896138055\n",
      "co-relation petal_width and petal_length  0.9627570970509667\n",
      "co-relation petal_width and petal_width  0.9999999999999998\n"
     ]
    }
   ],
   "source": [
    "for i in X: \n",
    "    for j in X: \n",
    "        print(f\"co-relation {i} and {j}  {co_reletion(i,j)}\")"
   ]
  },
  {
   "cell_type": "markdown",
   "id": "7dabee37-97b9-4b43-9474-b7dc1073662c",
   "metadata": {},
   "source": [
    "# c) How many independent features are present in the given dataset?"
   ]
  },
  {
   "cell_type": "code",
   "execution_count": 38,
   "id": "d4dfb657-527d-4cc0-8e9d-32ab90a321b7",
   "metadata": {},
   "outputs": [
    {
     "name": "stdout",
     "output_type": "stream",
     "text": [
      "Number of independent features: 4\n"
     ]
    }
   ],
   "source": [
    "import pandas as pd\n",
    "num_features = df.shape[1] - 1  # Subtracting target column\n",
    "print(\"Number of independent features:\", num_features)\n",
    "# df.shape returns the shape of the DataFrame as (rows, columns).\n",
    "# df.shape[1] gives the number of columns (features + target variable).\n",
    "# -1 is used to exclude the target column (dependent variable), assuming it is present in the dataset."
   ]
  },
  {
   "cell_type": "code",
   "execution_count": 39,
   "id": "bdcb2f09-8745-4e3d-bf28-e62d0650e6b3",
   "metadata": {},
   "outputs": [],
   "source": [
    "# d) Can we identify unwanted features?"
   ]
  },
  {
   "cell_type": "code",
   "execution_count": 40,
   "id": "134d5d65-c359-4139-ba94-a726f451909c",
   "metadata": {},
   "outputs": [
    {
     "name": "stdout",
     "output_type": "stream",
     "text": [
      "Highly Correlated Features: [('petal_length', 'petal_width')]\n",
      "Dataset after removing highly correlated features:\n",
      "   sepal_length  sepal_width  petal_length species\n",
      "0           5.1          3.5           1.4  setosa\n",
      "1           4.9          3.0           1.4  setosa\n",
      "2           4.7          3.2           1.3  setosa\n",
      "3           4.6          3.1           1.5  setosa\n",
      "4           5.0          3.6           1.4  setosa\n"
     ]
    },
    {
     "name": "stderr",
     "output_type": "stream",
     "text": [
      "C:\\Users\\ashwi\\AppData\\Local\\Temp\\ipykernel_10392\\3637967043.py:3: FutureWarning: The default value of numeric_only in DataFrame.corr is deprecated. In a future version, it will default to False. Select only valid columns or specify the value of numeric_only to silence this warning.\n",
      "  corr_matrix = df.corr()\n"
     ]
    }
   ],
   "source": [
    "import pandas as pd\n",
    "# Compute the correlation matrix\n",
    "corr_matrix = df.corr()\n",
    "\n",
    "# Set a threshold for correlation (e.g., 0.9 means features with correlation > 0.9 will be removed)\n",
    "threshold = 0.9\n",
    "\n",
    "# Get pairs of highly correlated features\n",
    "high_corr_var = np.where(corr_matrix > threshold)\n",
    "\n",
    "# List of feature pairs with high correlation\n",
    "high_corr_pairs = [(df.columns[x], df.columns[y]) for x, y in zip(*high_corr_var) if x != y and x < y]\n",
    "\n",
    "# Print out highly correlated pairs\n",
    "print(\"Highly Correlated Features:\", high_corr_pairs)\n",
    "\n",
    "# Drop one feature from each highly correlated pair\n",
    "for feature1, feature2 in high_corr_pairs:\n",
    "    df = df.drop(columns=[feature2])  # You can choose to drop either of the correlated features\n",
    "\n",
    "# Final dataset with reduced features\n",
    "print(\"Dataset after removing highly correlated features:\")\n",
    "print(df.head())\n"
   ]
  },
  {
   "cell_type": "code",
   "execution_count": 51,
   "id": "7c0272f2-33ed-4936-928c-a7c74e9ed3dc",
   "metadata": {},
   "outputs": [
    {
     "name": "stdout",
     "output_type": "stream",
     "text": [
      "    sepal_length sepal_length_bins\n",
      "0            5.1               Low\n",
      "1            4.9               Low\n",
      "2            4.7               Low\n",
      "3            4.6               Low\n",
      "4            5.0               Low\n",
      "5            5.4               Low\n",
      "6            4.6               Low\n",
      "7            5.0               Low\n",
      "8            4.4               Low\n",
      "9            4.9               Low\n",
      "10           5.4               Low\n",
      "11           4.8               Low\n",
      "12           4.8               Low\n",
      "13           4.3               Low\n",
      "14           5.8            Medium\n",
      "15           5.7            Medium\n",
      "16           5.4               Low\n",
      "17           5.1               Low\n",
      "18           5.7            Medium\n",
      "19           5.1               Low\n"
     ]
    }
   ],
   "source": [
    "# Equi-frequency binning on sepal_length into 3 bins\n",
    "df['sepal_length_bins'] = pd.qcut(df['sepal_length'], q=3, labels=['Low', 'Medium', 'High'])\n",
    "\n",
    "print(df[['sepal_length', 'sepal_length_bins']].head(20))"
   ]
  },
  {
   "cell_type": "code",
   "execution_count": null,
   "id": "b342f7af-50fc-470b-b70e-fca13622cfbb",
   "metadata": {},
   "outputs": [],
   "source": []
  },
  {
   "cell_type": "markdown",
   "id": "7a9064ac-d776-4b6a-8ab2-363dfecf48d1",
   "metadata": {},
   "source": [
    "f) Normalize RestBP, chol, and MaxHR attributes (considering above dataset) \n",
    "using min-max normalization, Z-score normalization, and decimal scaling normalization."
   ]
  },
  {
   "cell_type": "code",
   "execution_count": 45,
   "id": "3fd13799-086e-4e92-ae28-2f8d441fb1a1",
   "metadata": {},
   "outputs": [
    {
     "name": "stdout",
     "output_type": "stream",
     "text": [
      "Min-Max Scaling:\n",
      "    sepal_length_minmax  sepal_width_minmax  petal_length_minmax\n",
      "0             0.222222            0.625000             0.067797\n",
      "1             0.166667            0.416667             0.067797\n",
      "2             0.111111            0.500000             0.050847\n",
      "3             0.083333            0.458333             0.084746\n",
      "4             0.194444            0.666667             0.067797\n"
     ]
    }
   ],
   "source": [
    "# Min-Max Scaling on numeric Iris features\n",
    "cols = ['sepal_length', 'sepal_width', 'petal_length']\n",
    "\n",
    "for col in cols:\n",
    "    min_val = df[col].min()\n",
    "    max_val = df[col].max()\n",
    "    df[f'{col}_minmax'] = (df[col] - min_val) / (max_val - min_val)\n",
    "\n",
    "print(\"Min-Max Scaling:\\n\", df[[f'{c}_minmax' for c in cols]].head())\n"
   ]
  },
  {
   "cell_type": "code",
   "execution_count": 47,
   "id": "bdf661b5-64f7-4a94-9311-3fb49c77ae42",
   "metadata": {},
   "outputs": [
    {
     "name": "stdout",
     "output_type": "stream",
     "text": [
      "Z-score Scaling:\n",
      "    sepal_length_zscore  sepal_width_zscore  petal_length_zscore\n",
      "0            -0.897674            1.028611            -1.336794\n",
      "1            -1.139200           -0.124540            -1.336794\n",
      "2            -1.380727            0.336720            -1.393470\n",
      "3            -1.501490            0.106090            -1.280118\n",
      "4            -1.018437            1.259242            -1.336794\n"
     ]
    }
   ],
   "source": [
    "# Z-score Scaling on numeric Iris features\n",
    "cols = ['sepal_length', 'sepal_width', 'petal_length']\n",
    "\n",
    "for col in cols:\n",
    "    mean = df[col].mean()\n",
    "    std = df[col].std()\n",
    "    df[f'{col}_zscore'] = (df[col] - mean) / std\n",
    "\n",
    "print(\"Z-score Scaling:\\n\", df[[f'{c}_zscore' for c in cols]].head())\n"
   ]
  },
  {
   "cell_type": "code",
   "execution_count": 49,
   "id": "c594b784-3d48-4cee-9d2c-1935b0f48e72",
   "metadata": {},
   "outputs": [
    {
     "name": "stdout",
     "output_type": "stream",
     "text": [
      "Decimal Scaling:\n",
      "    sepal_length_decimal  sepal_width_decimal  petal_length_decimal\n",
      "0                  0.51                 0.35                  0.14\n",
      "1                  0.49                 0.30                  0.14\n",
      "2                  0.47                 0.32                  0.13\n",
      "3                  0.46                 0.31                  0.15\n",
      "4                  0.50                 0.36                  0.14\n"
     ]
    }
   ],
   "source": [
    "# Decimal Scaling on numeric Iris features\n",
    "cols = ['sepal_length', 'sepal_width', 'petal_length']\n",
    "\n",
    "for col in cols:\n",
    "    max_val = abs(df[col]).max()\n",
    "    j = len(str(int(max_val)))\n",
    "    df[f'{col}_decimal'] = df[col] / (10 ** j)\n",
    "\n",
    "print(\"Decimal Scaling:\\n\", df[[f'{c}_decimal' for c in cols]].head())\n"
   ]
  },
  {
   "cell_type": "code",
   "execution_count": null,
   "id": "7a0dd355-0f23-4730-b957-c1352e631982",
   "metadata": {},
   "outputs": [],
   "source": []
  },
  {
   "cell_type": "code",
   "execution_count": 41,
   "id": "f05f24f8-92c7-49e9-be7c-fa8ad1e85cbb",
   "metadata": {},
   "outputs": [],
   "source": [
    "# minmax scaling \n",
    "# z-score scalign \n",
    "# decmail scaling "
   ]
  },
  {
   "cell_type": "code",
   "execution_count": null,
   "id": "b812af8d-7ec8-44c7-b156-f249e2e4f3a1",
   "metadata": {},
   "outputs": [],
   "source": []
  },
  {
   "cell_type": "code",
   "execution_count": null,
   "id": "1e691560-a117-4dde-83ad-7afadc18dc02",
   "metadata": {},
   "outputs": [],
   "source": []
  }
 ],
 "metadata": {
  "kernelspec": {
   "display_name": "Python 3 (ipykernel)",
   "language": "python",
   "name": "python3"
  },
  "language_info": {
   "codemirror_mode": {
    "name": "ipython",
    "version": 3
   },
   "file_extension": ".py",
   "mimetype": "text/x-python",
   "name": "python",
   "nbconvert_exporter": "python",
   "pygments_lexer": "ipython3",
   "version": "3.11.7"
  },
  "widgets": {
   "application/vnd.jupyter.widget-state+json": {
    "state": {},
    "version_major": 2,
    "version_minor": 0
   }
  }
 },
 "nbformat": 4,
 "nbformat_minor": 5
}
