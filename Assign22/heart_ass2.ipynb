{
 "cells": [
  {
   "cell_type": "raw",
   "id": "d5f5cb9d-8590-41f3-9779-f7760387ea0b",
   "metadata": {},
   "source": [
    "Data Discretization and Data Normalization. Use any suitable dataset \n",
    "(e.g. heart dataset Data.D/www.kaggle.com/zhaoyinnguage artesv). \n",
    "Perform following operations on given dataset suitable programming\n",
    "\n",
    "a) Find standard deviation, variance of every numerical attribute.\n",
    "\n",
    "b) Find covariance and perform Correlation analysis using Correlation coefficient.\n",
    "\n",
    "c) How many independent features are present in the given dataset?\n",
    "\n",
    "d) Can we identify unwanted features?\n",
    "\n",
    "e) Perform the data discretization using equi frequency binning method on age attribute\n",
    "\n",
    "f) Normalize RestBP, chol, and MaxHR attributes (considering above dataset) \n",
    "using min-max normalization, Z-score normalization, and decimal scaling normalization."
   ]
  },
  {
   "cell_type": "code",
   "execution_count": 1,
   "id": "af9f4f95-2d12-43f0-9935-6a085c1a04bf",
   "metadata": {},
   "outputs": [],
   "source": [
    "import pandas as pd\n",
    "import numpy as np\n",
    "import seaborn as sns\n",
    "import matplotlib.pyplot as plt"
   ]
  },
  {
   "cell_type": "code",
   "execution_count": 17,
   "id": "8bce3701-18a8-4b54-b05e-057856206fa2",
   "metadata": {},
   "outputs": [],
   "source": [
    "df=pd.read_csv(\"heart.csv\")"
   ]
  },
  {
   "cell_type": "code",
   "execution_count": 18,
   "id": "7b1e526f-af77-40ef-b067-5dc34f16dab5",
   "metadata": {},
   "outputs": [
    {
     "data": {
      "text/html": [
       "<div>\n",
       "<style scoped>\n",
       "    .dataframe tbody tr th:only-of-type {\n",
       "        vertical-align: middle;\n",
       "    }\n",
       "\n",
       "    .dataframe tbody tr th {\n",
       "        vertical-align: top;\n",
       "    }\n",
       "\n",
       "    .dataframe thead th {\n",
       "        text-align: right;\n",
       "    }\n",
       "</style>\n",
       "<table border=\"1\" class=\"dataframe\">\n",
       "  <thead>\n",
       "    <tr style=\"text-align: right;\">\n",
       "      <th></th>\n",
       "      <th>age</th>\n",
       "      <th>sex</th>\n",
       "      <th>cp</th>\n",
       "      <th>trestbps</th>\n",
       "      <th>chol</th>\n",
       "      <th>fbs</th>\n",
       "      <th>restecg</th>\n",
       "      <th>thalach</th>\n",
       "      <th>exang</th>\n",
       "      <th>oldpeak</th>\n",
       "      <th>slope</th>\n",
       "      <th>ca</th>\n",
       "      <th>thal</th>\n",
       "      <th>target</th>\n",
       "    </tr>\n",
       "  </thead>\n",
       "  <tbody>\n",
       "    <tr>\n",
       "      <th>0</th>\n",
       "      <td>52</td>\n",
       "      <td>1</td>\n",
       "      <td>0</td>\n",
       "      <td>125</td>\n",
       "      <td>212</td>\n",
       "      <td>0</td>\n",
       "      <td>1</td>\n",
       "      <td>168</td>\n",
       "      <td>0</td>\n",
       "      <td>1.0</td>\n",
       "      <td>2</td>\n",
       "      <td>2</td>\n",
       "      <td>3</td>\n",
       "      <td>0</td>\n",
       "    </tr>\n",
       "    <tr>\n",
       "      <th>1</th>\n",
       "      <td>53</td>\n",
       "      <td>1</td>\n",
       "      <td>0</td>\n",
       "      <td>140</td>\n",
       "      <td>203</td>\n",
       "      <td>1</td>\n",
       "      <td>0</td>\n",
       "      <td>155</td>\n",
       "      <td>1</td>\n",
       "      <td>3.1</td>\n",
       "      <td>0</td>\n",
       "      <td>0</td>\n",
       "      <td>3</td>\n",
       "      <td>0</td>\n",
       "    </tr>\n",
       "    <tr>\n",
       "      <th>2</th>\n",
       "      <td>70</td>\n",
       "      <td>1</td>\n",
       "      <td>0</td>\n",
       "      <td>145</td>\n",
       "      <td>174</td>\n",
       "      <td>0</td>\n",
       "      <td>1</td>\n",
       "      <td>125</td>\n",
       "      <td>1</td>\n",
       "      <td>2.6</td>\n",
       "      <td>0</td>\n",
       "      <td>0</td>\n",
       "      <td>3</td>\n",
       "      <td>0</td>\n",
       "    </tr>\n",
       "    <tr>\n",
       "      <th>3</th>\n",
       "      <td>61</td>\n",
       "      <td>1</td>\n",
       "      <td>0</td>\n",
       "      <td>148</td>\n",
       "      <td>203</td>\n",
       "      <td>0</td>\n",
       "      <td>1</td>\n",
       "      <td>161</td>\n",
       "      <td>0</td>\n",
       "      <td>0.0</td>\n",
       "      <td>2</td>\n",
       "      <td>1</td>\n",
       "      <td>3</td>\n",
       "      <td>0</td>\n",
       "    </tr>\n",
       "    <tr>\n",
       "      <th>4</th>\n",
       "      <td>62</td>\n",
       "      <td>0</td>\n",
       "      <td>0</td>\n",
       "      <td>138</td>\n",
       "      <td>294</td>\n",
       "      <td>1</td>\n",
       "      <td>1</td>\n",
       "      <td>106</td>\n",
       "      <td>0</td>\n",
       "      <td>1.9</td>\n",
       "      <td>1</td>\n",
       "      <td>3</td>\n",
       "      <td>2</td>\n",
       "      <td>0</td>\n",
       "    </tr>\n",
       "    <tr>\n",
       "      <th>...</th>\n",
       "      <td>...</td>\n",
       "      <td>...</td>\n",
       "      <td>...</td>\n",
       "      <td>...</td>\n",
       "      <td>...</td>\n",
       "      <td>...</td>\n",
       "      <td>...</td>\n",
       "      <td>...</td>\n",
       "      <td>...</td>\n",
       "      <td>...</td>\n",
       "      <td>...</td>\n",
       "      <td>...</td>\n",
       "      <td>...</td>\n",
       "      <td>...</td>\n",
       "    </tr>\n",
       "    <tr>\n",
       "      <th>1020</th>\n",
       "      <td>59</td>\n",
       "      <td>1</td>\n",
       "      <td>1</td>\n",
       "      <td>140</td>\n",
       "      <td>221</td>\n",
       "      <td>0</td>\n",
       "      <td>1</td>\n",
       "      <td>164</td>\n",
       "      <td>1</td>\n",
       "      <td>0.0</td>\n",
       "      <td>2</td>\n",
       "      <td>0</td>\n",
       "      <td>2</td>\n",
       "      <td>1</td>\n",
       "    </tr>\n",
       "    <tr>\n",
       "      <th>1021</th>\n",
       "      <td>60</td>\n",
       "      <td>1</td>\n",
       "      <td>0</td>\n",
       "      <td>125</td>\n",
       "      <td>258</td>\n",
       "      <td>0</td>\n",
       "      <td>0</td>\n",
       "      <td>141</td>\n",
       "      <td>1</td>\n",
       "      <td>2.8</td>\n",
       "      <td>1</td>\n",
       "      <td>1</td>\n",
       "      <td>3</td>\n",
       "      <td>0</td>\n",
       "    </tr>\n",
       "    <tr>\n",
       "      <th>1022</th>\n",
       "      <td>47</td>\n",
       "      <td>1</td>\n",
       "      <td>0</td>\n",
       "      <td>110</td>\n",
       "      <td>275</td>\n",
       "      <td>0</td>\n",
       "      <td>0</td>\n",
       "      <td>118</td>\n",
       "      <td>1</td>\n",
       "      <td>1.0</td>\n",
       "      <td>1</td>\n",
       "      <td>1</td>\n",
       "      <td>2</td>\n",
       "      <td>0</td>\n",
       "    </tr>\n",
       "    <tr>\n",
       "      <th>1023</th>\n",
       "      <td>50</td>\n",
       "      <td>0</td>\n",
       "      <td>0</td>\n",
       "      <td>110</td>\n",
       "      <td>254</td>\n",
       "      <td>0</td>\n",
       "      <td>0</td>\n",
       "      <td>159</td>\n",
       "      <td>0</td>\n",
       "      <td>0.0</td>\n",
       "      <td>2</td>\n",
       "      <td>0</td>\n",
       "      <td>2</td>\n",
       "      <td>1</td>\n",
       "    </tr>\n",
       "    <tr>\n",
       "      <th>1024</th>\n",
       "      <td>54</td>\n",
       "      <td>1</td>\n",
       "      <td>0</td>\n",
       "      <td>120</td>\n",
       "      <td>188</td>\n",
       "      <td>0</td>\n",
       "      <td>1</td>\n",
       "      <td>113</td>\n",
       "      <td>0</td>\n",
       "      <td>1.4</td>\n",
       "      <td>1</td>\n",
       "      <td>1</td>\n",
       "      <td>3</td>\n",
       "      <td>0</td>\n",
       "    </tr>\n",
       "  </tbody>\n",
       "</table>\n",
       "<p>1025 rows × 14 columns</p>\n",
       "</div>"
      ],
      "text/plain": [
       "      age  sex  cp  trestbps  chol  fbs  restecg  thalach  exang  oldpeak  \\\n",
       "0      52    1   0       125   212    0        1      168      0      1.0   \n",
       "1      53    1   0       140   203    1        0      155      1      3.1   \n",
       "2      70    1   0       145   174    0        1      125      1      2.6   \n",
       "3      61    1   0       148   203    0        1      161      0      0.0   \n",
       "4      62    0   0       138   294    1        1      106      0      1.9   \n",
       "...   ...  ...  ..       ...   ...  ...      ...      ...    ...      ...   \n",
       "1020   59    1   1       140   221    0        1      164      1      0.0   \n",
       "1021   60    1   0       125   258    0        0      141      1      2.8   \n",
       "1022   47    1   0       110   275    0        0      118      1      1.0   \n",
       "1023   50    0   0       110   254    0        0      159      0      0.0   \n",
       "1024   54    1   0       120   188    0        1      113      0      1.4   \n",
       "\n",
       "      slope  ca  thal  target  \n",
       "0         2   2     3       0  \n",
       "1         0   0     3       0  \n",
       "2         0   0     3       0  \n",
       "3         2   1     3       0  \n",
       "4         1   3     2       0  \n",
       "...     ...  ..   ...     ...  \n",
       "1020      2   0     2       1  \n",
       "1021      1   1     3       0  \n",
       "1022      1   1     2       0  \n",
       "1023      2   0     2       1  \n",
       "1024      1   1     3       0  \n",
       "\n",
       "[1025 rows x 14 columns]"
      ]
     },
     "execution_count": 18,
     "metadata": {},
     "output_type": "execute_result"
    }
   ],
   "source": [
    "df"
   ]
  },
  {
   "cell_type": "code",
   "execution_count": 6,
   "id": "ccc50470-afca-4959-aa3f-7f2deeb66422",
   "metadata": {},
   "outputs": [
    {
     "name": "stdout",
     "output_type": "stream",
     "text": [
      "\n",
      "📊 Standard Deviation of numeric attributes:\n",
      "age          9.072290\n",
      "sex          0.460373\n",
      "cp           1.029641\n",
      "trestbps    17.516718\n",
      "chol        51.592510\n",
      "fbs          0.356527\n",
      "restecg      0.527878\n",
      "thalach     23.005724\n",
      "exang        0.472772\n",
      "oldpeak      1.175053\n",
      "slope        0.617755\n",
      "ca           1.030798\n",
      "thal         0.620660\n",
      "target       0.500070\n",
      "dtype: float64\n"
     ]
    }
   ],
   "source": [
    "# a) Standard deviation and variance\n",
    "print(\"\\n📊 Standard Deviation of numeric attributes:\")\n",
    "print(df.std(numeric_only=True))"
   ]
  },
  {
   "cell_type": "code",
   "execution_count": 7,
   "id": "bd49f4a7-ea74-4384-b766-2c1c00af23a6",
   "metadata": {},
   "outputs": [],
   "source": [
    "# Manual Mean\n",
    "def mean_cal(col):\n",
    "    s = 0\n",
    "    for i in range(df.shape[0]):\n",
    "        s += df[col][i]\n",
    "    return s / df.shape[0]\n",
    "    "
   ]
  },
  {
   "cell_type": "code",
   "execution_count": 8,
   "id": "511cc7a4-e3fc-43bb-a643-372c9f6e7e9f",
   "metadata": {},
   "outputs": [],
   "source": [
    "# Manual Variance\n",
    "def var_cal(col):\n",
    "    m = mean_cal(col)\n",
    "    s = 0\n",
    "    for i in range(df.shape[0]):\n",
    "        s += (df[col][i] - m) ** 2\n",
    "    return s / df.shape[0]"
   ]
  },
  {
   "cell_type": "code",
   "execution_count": 9,
   "id": "52e1000f-36a3-46b2-a93e-0ce4997df69c",
   "metadata": {},
   "outputs": [],
   "source": [
    "# Manual Standard Deviation\n",
    "def std_dev(col):\n",
    "    return var_cal(col) ** 0.5"
   ]
  },
  {
   "cell_type": "code",
   "execution_count": 13,
   "id": "7c36f783-0423-4b24-aa17-f120b2752c76",
   "metadata": {},
   "outputs": [
    {
     "name": "stdout",
     "output_type": "stream",
     "text": [
      "Manual Variance & Standard Deviation\n",
      "age → Variance: 82.226 | Std Dev: 9.068\n",
      "sex → Variance: 0.212 | Std Dev: 0.460\n",
      "cp → Variance: 1.059 | Std Dev: 1.029\n",
      "trestbps → Variance: 306.536 | Std Dev: 17.508\n",
      "chol → Variance: 2659.190 | Std Dev: 51.567\n",
      "fbs → Variance: 0.127 | Std Dev: 0.356\n",
      "restecg → Variance: 0.278 | Std Dev: 0.528\n",
      "thalach → Variance: 528.747 | Std Dev: 22.994\n",
      "exang → Variance: 0.223 | Std Dev: 0.473\n",
      "oldpeak → Variance: 1.379 | Std Dev: 1.174\n",
      "slope → Variance: 0.381 | Std Dev: 0.617\n",
      "ca → Variance: 1.062 | Std Dev: 1.030\n",
      "thal → Variance: 0.385 | Std Dev: 0.620\n",
      "target → Variance: 0.250 | Std Dev: 0.500\n"
     ]
    }
   ],
   "source": [
    "# a) Variance & Standard Deviation\n",
    "print(\"Manual Variance & Standard Deviation\")\n",
    "for i in df:\n",
    "    print(f\"{i} → Variance: {var_cal(i):.3f} | Std Dev: {std_dev(i):.3f}\")\n"
   ]
  },
  {
   "cell_type": "code",
   "execution_count": 14,
   "id": "bd8a9ce9-740b-4e47-817d-f132458ffc68",
   "metadata": {},
   "outputs": [],
   "source": [
    "\n",
    "# Manual Covariance\n",
    "def covariance(col1, col2):\n",
    "    mean1 = mean_cal(col1)\n",
    "    mean2 = mean_cal(col2)\n",
    "    cov = 0\n",
    "    for i in range(df.shape[0]):\n",
    "        cov += (df[col1][i] - mean1) * (df[col2][i] - mean2)\n",
    "    return cov / df.shape[0]\n",
    "\n",
    "# Manual Correlation Coefficient\n",
    "def correlation(col1, col2):\n",
    "    cov = covariance(col1, col2)\n",
    "    std1 = std_dev(col1)\n",
    "    std2 = std_dev(col2)\n",
    "    return cov / (std1 * std2)"
   ]
  },
  {
   "cell_type": "code",
   "execution_count": 21,
   "id": "8c0e7f85-2d75-476b-9fbe-2ce6866761eb",
   "metadata": {},
   "outputs": [
    {
     "name": "stdout",
     "output_type": "stream",
     "text": [
      "\n",
      "🔗 Covariance & Correlation:\n",
      "age → Covariance: 82.23, Correlation: 1.00\n",
      "sex → Covariance: 0.21, Correlation: 1.00\n",
      "cp → Covariance: 1.06, Correlation: 1.00\n",
      "trestbps → Covariance: 306.54, Correlation: 1.00\n",
      "chol → Covariance: 2659.19, Correlation: 1.00\n",
      "fbs → Covariance: 0.13, Correlation: 1.00\n",
      "restecg → Covariance: 0.28, Correlation: 1.00\n",
      "thalach → Covariance: 528.75, Correlation: 1.00\n",
      "exang → Covariance: 0.22, Correlation: 1.00\n",
      "oldpeak → Covariance: 1.38, Correlation: 1.00\n",
      "slope → Covariance: 0.38, Correlation: 1.00\n",
      "ca → Covariance: 1.06, Correlation: 1.00\n",
      "thal → Covariance: 0.38, Correlation: 1.00\n",
      "target → Covariance: 0.25, Correlation: 1.00\n"
     ]
    }
   ],
   "source": [
    "print(\"\\n🔗 Covariance & Correlation:\")\n",
    "\n",
    "cols = df.select_dtypes(include=['int64', 'float64']).columns.tolist()\n",
    "\n",
    "for col in cols:\n",
    "    cov = covariance(col, col)\n",
    "    corr = correlation(col, col)\n",
    "    print(f\"{col} → Covariance: {cov:.2f}, Correlation: {corr:.2f}\")\n"
   ]
  },
  {
   "cell_type": "code",
   "execution_count": 25,
   "id": "c86c5b1d-6500-4705-888a-53d93869e4f5",
   "metadata": {},
   "outputs": [
    {
     "name": "stdout",
     "output_type": "stream",
     "text": [
      " Independent features: 13\n"
     ]
    }
   ],
   "source": [
    "# Independent features = total features - target\n",
    "independent_features = df.drop('target', axis=1).shape[1]\n",
    "print(f\" Independent features: {independent_features}\")\n"
   ]
  },
  {
   "cell_type": "code",
   "execution_count": 28,
   "id": "2d1eba7c-91b3-49dd-9096-8d9f44efcb38",
   "metadata": {},
   "outputs": [],
   "source": [
    "# Check if any column has low variance (maybe not useful)\n",
    "for col in df.columns:\n",
    "    if df[col].nunique() == 1:\n",
    "        print(f\"Unwanted feature (constant): {col}\")\n"
   ]
  },
  {
   "cell_type": "code",
   "execution_count": 29,
   "id": "6159357f-13a1-4365-afc5-a7f66e1d2b28",
   "metadata": {},
   "outputs": [
    {
     "name": "stdout",
     "output_type": "stream",
     "text": [
      "   age  age_binned\n",
      "0   52           1\n",
      "1   53           1\n",
      "2   70           3\n",
      "3   61           2\n",
      "4   62           3\n"
     ]
    }
   ],
   "source": [
    "# Split 'age' into 4 bins with equal frequency\n",
    "df['age_binned'] = pd.qcut(df['age'], q=4, labels=False)\n",
    "print(df[['age', 'age_binned']].head())\n"
   ]
  },
  {
   "cell_type": "code",
   "execution_count": 39,
   "id": "8a862dc6-981e-47f6-b527-cba1fef497b8",
   "metadata": {},
   "outputs": [
    {
     "name": "stdout",
     "output_type": "stream",
     "text": [
      "   trestbps_minmax  chol_minmax  thalach_minmax\n",
      "0         0.292453     0.196347        0.740458\n",
      "1         0.433962     0.175799        0.641221\n",
      "2         0.481132     0.109589        0.412214\n",
      "3         0.509434     0.175799        0.687023\n",
      "4         0.415094     0.383562        0.267176\n"
     ]
    }
   ],
   "source": [
    "\n",
    "# Min-Max Normalization\n",
    "for col in cols:\n",
    "    df[f'{col}_minmax'] = (df[col] - df[col].min()) / (df[col].max() - df[col].min())\n",
    "    \n",
    "print(df[[f'{c}_minmax' for c in cols] ].head())\n"
   ]
  },
  {
   "cell_type": "code",
   "execution_count": 40,
   "id": "a2f65ee9-1edc-439a-ba87-ed8b90e2442d",
   "metadata": {},
   "outputs": [
    {
     "name": "stdout",
     "output_type": "stream",
     "text": [
      "   trestbps_zscore  chol_zscore  thalach_zscore\n",
      "0        -0.377451    -0.659010        0.820920\n",
      "1         0.478874    -0.833454        0.255843\n",
      "2         0.764315    -1.395551       -1.048180\n",
      "3         0.935580    -0.833454        0.516648\n",
      "4         0.364697     0.930368       -1.874062\n"
     ]
    }
   ],
   "source": [
    "# Z-score Normalization\n",
    "for col in cols:\n",
    "    mean = df[col].mean()\n",
    "    std = df[col].std()\n",
    "    df[f'{col}_zscore'] = (df[col] - mean) / std\n",
    "\n",
    "print(df[[f'{c}_zscore' for c in cols] ].head())"
   ]
  },
  {
   "cell_type": "code",
   "execution_count": 41,
   "id": "d864f81d-e917-4197-97e0-3823150915ef",
   "metadata": {},
   "outputs": [
    {
     "name": "stdout",
     "output_type": "stream",
     "text": [
      "   trestbps_decimal  chol_decimal  thalach_decimal\n",
      "0             0.125         0.212            0.168\n",
      "1             0.140         0.203            0.155\n",
      "2             0.145         0.174            0.125\n",
      "3             0.148         0.203            0.161\n",
      "4             0.138         0.294            0.106\n"
     ]
    }
   ],
   "source": [
    "\n",
    "# Decimal Scaling Normalization\n",
    "for col in cols:\n",
    "    max_val = abs(df[col]).max()\n",
    "    j = len(str(int(max_val)))\n",
    "    df[f'{col}_decimal'] = df[col] / (10 ** j)\n",
    "\n",
    "print(df[[f'{c}_decimal' for c in cols] ].head())"
   ]
  },
  {
   "cell_type": "code",
   "execution_count": null,
   "id": "26b5e1ee-3f8b-4988-aab9-51cd76a111a2",
   "metadata": {},
   "outputs": [],
   "source": []
  }
 ],
 "metadata": {
  "kernelspec": {
   "display_name": "Python 3 (ipykernel)",
   "language": "python",
   "name": "python3"
  },
  "language_info": {
   "codemirror_mode": {
    "name": "ipython",
    "version": 3
   },
   "file_extension": ".py",
   "mimetype": "text/x-python",
   "name": "python",
   "nbconvert_exporter": "python",
   "pygments_lexer": "ipython3",
   "version": "3.11.7"
  }
 },
 "nbformat": 4,
 "nbformat_minor": 5
}
